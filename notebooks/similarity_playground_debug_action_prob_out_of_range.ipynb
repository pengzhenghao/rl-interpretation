{
 "cells": [
  {
   "cell_type": "code",
   "execution_count": 1,
   "metadata": {
    "scrolled": false
   },
   "outputs": [
    {
     "name": "stderr",
     "output_type": "stream",
     "text": [
      "/home/zhpeng/anaconda3/envs/uber/lib/python3.6/site-packages/tensorflow/python/framework/dtypes.py:516: FutureWarning: Passing (type, 1) or '1type' as a synonym of type is deprecated; in a future version of numpy, it will be understood as (type, (1,)) / '(1,)type'.\n",
      "  _np_qint8 = np.dtype([(\"qint8\", np.int8, 1)])\n",
      "/home/zhpeng/anaconda3/envs/uber/lib/python3.6/site-packages/tensorflow/python/framework/dtypes.py:517: FutureWarning: Passing (type, 1) or '1type' as a synonym of type is deprecated; in a future version of numpy, it will be understood as (type, (1,)) / '(1,)type'.\n",
      "  _np_quint8 = np.dtype([(\"quint8\", np.uint8, 1)])\n",
      "/home/zhpeng/anaconda3/envs/uber/lib/python3.6/site-packages/tensorflow/python/framework/dtypes.py:518: FutureWarning: Passing (type, 1) or '1type' as a synonym of type is deprecated; in a future version of numpy, it will be understood as (type, (1,)) / '(1,)type'.\n",
      "  _np_qint16 = np.dtype([(\"qint16\", np.int16, 1)])\n",
      "/home/zhpeng/anaconda3/envs/uber/lib/python3.6/site-packages/tensorflow/python/framework/dtypes.py:519: FutureWarning: Passing (type, 1) or '1type' as a synonym of type is deprecated; in a future version of numpy, it will be understood as (type, (1,)) / '(1,)type'.\n",
      "  _np_quint16 = np.dtype([(\"quint16\", np.uint16, 1)])\n",
      "/home/zhpeng/anaconda3/envs/uber/lib/python3.6/site-packages/tensorflow/python/framework/dtypes.py:520: FutureWarning: Passing (type, 1) or '1type' as a synonym of type is deprecated; in a future version of numpy, it will be understood as (type, (1,)) / '(1,)type'.\n",
      "  _np_qint32 = np.dtype([(\"qint32\", np.int32, 1)])\n",
      "/home/zhpeng/anaconda3/envs/uber/lib/python3.6/site-packages/tensorflow/python/framework/dtypes.py:525: FutureWarning: Passing (type, 1) or '1type' as a synonym of type is deprecated; in a future version of numpy, it will be understood as (type, (1,)) / '(1,)type'.\n",
      "  np_resource = np.dtype([(\"resource\", np.ubyte, 1)])\n"
     ]
    },
    {
     "name": "stdout",
     "output_type": "stream",
     "text": [
      "WARNING:tensorflow:From /home/zhpeng/anaconda3/envs/uber/lib/python3.6/site-packages/tensorflow/python/compat/v2_compat.py:61: disable_resource_variables (from tensorflow.python.ops.variable_scope) is deprecated and will be removed in a future version.\n",
      "Instructions for updating:\n",
      "non-resource variables are not supported in the long term\n"
     ]
    },
    {
     "name": "stderr",
     "output_type": "stream",
     "text": [
      "/home/zhpeng/anaconda3/envs/uber/lib/python3.6/site-packages/tensorboard/compat/tensorflow_stub/dtypes.py:541: FutureWarning: Passing (type, 1) or '1type' as a synonym of type is deprecated; in a future version of numpy, it will be understood as (type, (1,)) / '(1,)type'.\n",
      "  _np_qint8 = np.dtype([(\"qint8\", np.int8, 1)])\n",
      "/home/zhpeng/anaconda3/envs/uber/lib/python3.6/site-packages/tensorboard/compat/tensorflow_stub/dtypes.py:542: FutureWarning: Passing (type, 1) or '1type' as a synonym of type is deprecated; in a future version of numpy, it will be understood as (type, (1,)) / '(1,)type'.\n",
      "  _np_quint8 = np.dtype([(\"quint8\", np.uint8, 1)])\n",
      "/home/zhpeng/anaconda3/envs/uber/lib/python3.6/site-packages/tensorboard/compat/tensorflow_stub/dtypes.py:543: FutureWarning: Passing (type, 1) or '1type' as a synonym of type is deprecated; in a future version of numpy, it will be understood as (type, (1,)) / '(1,)type'.\n",
      "  _np_qint16 = np.dtype([(\"qint16\", np.int16, 1)])\n",
      "/home/zhpeng/anaconda3/envs/uber/lib/python3.6/site-packages/tensorboard/compat/tensorflow_stub/dtypes.py:544: FutureWarning: Passing (type, 1) or '1type' as a synonym of type is deprecated; in a future version of numpy, it will be understood as (type, (1,)) / '(1,)type'.\n",
      "  _np_quint16 = np.dtype([(\"quint16\", np.uint16, 1)])\n",
      "/home/zhpeng/anaconda3/envs/uber/lib/python3.6/site-packages/tensorboard/compat/tensorflow_stub/dtypes.py:545: FutureWarning: Passing (type, 1) or '1type' as a synonym of type is deprecated; in a future version of numpy, it will be understood as (type, (1,)) / '(1,)type'.\n",
      "  _np_qint32 = np.dtype([(\"qint32\", np.int32, 1)])\n",
      "/home/zhpeng/anaconda3/envs/uber/lib/python3.6/site-packages/tensorboard/compat/tensorflow_stub/dtypes.py:550: FutureWarning: Passing (type, 1) or '1type' as a synonym of type is deprecated; in a future version of numpy, it will be understood as (type, (1,)) / '(1,)type'.\n",
      "  np_resource = np.dtype([(\"resource\", np.ubyte, 1)])\n"
     ]
    }
   ],
   "source": [
    "from process_similarity import *\n",
    "import os\n",
    "import os.path as osp\n",
    "import pandas as pd\n",
    "import matplotlib.pyplot as plt\n",
    "import seaborn as sns\n",
    "%matplotlib inline\n",
    "from utils import restore_agent, restore_agent_with_activation\n",
    "from utils import restore_agent, restore_agent_with_activation\n",
    "from process_similarity import *\n",
    "import os\n",
    "import os.path as osp\n",
    "import pandas as pd\n",
    "import matplotlib.pyplot as plt\n",
    "import seaborn as sns\n",
    "%matplotlib inline\n",
    "from utils import restore_agent, restore_agent_with_activation\n",
    "import numpy as np\n",
    "from utils import _get_ppo_agent\n",
    "# from utils import *\n",
    "import ray"
   ]
  },
  {
   "cell_type": "code",
   "execution_count": 2,
   "metadata": {
    "scrolled": false
   },
   "outputs": [
    {
     "name": "stderr",
     "output_type": "stream",
     "text": [
      "2019-09-05 18:43:14,408\tINFO node.py:498 -- Process STDOUT and STDERR is being redirected to /tmp/ray/session_2019-09-05_18-43-14_406174_32071/logs.\n",
      "2019-09-05 18:43:14,533\tINFO services.py:409 -- Waiting for redis server at 127.0.0.1:60731 to respond...\n",
      "2019-09-05 18:43:14,655\tINFO services.py:409 -- Waiting for redis server at 127.0.0.1:53479 to respond...\n",
      "2019-09-05 18:43:14,659\tINFO services.py:809 -- Starting Redis shard with 10.0 GB max memory.\n",
      "2019-09-05 18:43:14,775\tINFO node.py:512 -- Process STDOUT and STDERR is being redirected to /tmp/ray/session_2019-09-05_18-43-14_406174_32071/logs.\n",
      "2019-09-05 18:43:14,777\tWARNING services.py:1301 -- Warning: Capping object memory store to 20.0GB. To increase this further, specify `object_store_memory` when calling ray.init() or ray start.\n",
      "2019-09-05 18:43:14,779\tINFO services.py:1475 -- Starting the Plasma object store with 20.0 GB memory using /dev/shm.\n"
     ]
    },
    {
     "data": {
      "text/plain": [
       "{'node_ip_address': '10.1.72.24',\n",
       " 'redis_address': '10.1.72.24:60731',\n",
       " 'object_store_address': '/tmp/ray/session_2019-09-05_18-43-14_406174_32071/sockets/plasma_store',\n",
       " 'raylet_socket_name': '/tmp/ray/session_2019-09-05_18-43-14_406174_32071/sockets/raylet',\n",
       " 'webui_url': None,\n",
       " 'session_dir': '/tmp/ray/session_2019-09-05_18-43-14_406174_32071'}"
      ]
     },
     "execution_count": 2,
     "metadata": {},
     "output_type": "execute_result"
    }
   ],
   "source": [
    "ray.init(ignore_reinit_error=True)"
   ]
  },
  {
   "cell_type": "code",
   "execution_count": 3,
   "metadata": {},
   "outputs": [],
   "source": [
    "def check_agent(a):\n",
    "    act, _, info = a.get_policy().compute_actions(\n",
    "        np.linspace(-1000000, 10000000, 10000)[:, None] * np.ones((10000, 24))\n",
    "    )\n",
    "    prob = info['action_prob']\n",
    "    mask = np.logical_or(prob>1, prob<0)\n",
    "    print(act[mask], prob[mask])\n",
    "    print((prob>1).sum())\n",
    "    print((prob<0).sum())\n",
    "    print((act>1).sum())\n",
    "    print((act<-1).sum())"
   ]
  },
  {
   "cell_type": "code",
   "execution_count": null,
   "metadata": {},
   "outputs": [],
   "source": [
    "## How many sample are out of the range?"
   ]
  },
  {
   "cell_type": "code",
   "execution_count": null,
   "metadata": {},
   "outputs": [],
   "source": [
    "# yaml_path = \"yaml/ppo-300-agents.yaml\"\n",
    "# test_mode = False\n",
    "\n",
    "# output_path = \"data/similarity/{}.pkl\".format(osp.basename(yaml_path).split(\".yaml\")[0])\n",
    "# # num_rollouts = 2 if test_mode else 100\n",
    "# num_rollouts = 20\n",
    "# num_agents = 20\n",
    "# # local_mode = False\n",
    "\n",
    "# agent_dataset = build_agent_dataset(\n",
    "#     yaml_path, num_rollouts,\n",
    "#     output_path=output_path,\n",
    "#     _num_agents=num_agents\n",
    "# )\n",
    "\n",
    "# all_act = np.concatenate([a['act'] for a in agent_dataset.values()])\n",
    "# print(all_act.shape)\n",
    "# np.logical_or(all_act>1, all_act<-1).sum(0) / len(all_act)"
   ]
  },
  {
   "cell_type": "code",
   "execution_count": null,
   "metadata": {},
   "outputs": [],
   "source": []
  },
  {
   "cell_type": "code",
   "execution_count": null,
   "metadata": {},
   "outputs": [],
   "source": []
  },
  {
   "cell_type": "code",
   "execution_count": null,
   "metadata": {},
   "outputs": [],
   "source": []
  },
  {
   "cell_type": "code",
   "execution_count": 5,
   "metadata": {},
   "outputs": [
    {
     "name": "stderr",
     "output_type": "stream",
     "text": [
      "2019-09-05 18:43:29,504\tWARNING __init__.py:54 -- DeprecationWarning: PPO has been renamed to ray.rllib.agents.trainer_template.PPO. This will raise an error in the future.\n",
      "2019-09-05 18:43:29,517\tWARNING ppo.py:143 -- FYI: By default, the value function will not share layers with the policy model ('vf_share_layers': False).\n",
      "2019-09-05 18:43:29,529\tINFO rollout_worker.py:319 -- Creating policy evaluation worker 0 on CPU (please ignore any CUDA init errors)\n",
      "2019-09-05 18:43:31,440\tINFO rollout_worker.py:742 -- Built policy map: {'default_policy': <ray.rllib.policy.tf_policy_template.PPOTFPolicy object at 0x7fe8c41b9b00>}\n",
      "2019-09-05 18:43:31,442\tINFO rollout_worker.py:743 -- Built preprocessor map: {'default_policy': <ray.rllib.models.preprocessors.NoPreprocessor object at 0x7fe8c41b9a20>}\n",
      "2019-09-05 18:43:31,443\tINFO rollout_worker.py:356 -- Built filter map: {'default_policy': <ray.rllib.utils.filter.NoFilter object at 0x7fe8c41b98d0>}\n",
      "2019-09-05 18:43:31,483\tINFO multi_gpu_optimizer.py:93 -- LocalMultiGPUOptimizer devices ['/cpu:0']\n"
     ]
    },
    {
     "name": "stdout",
     "output_type": "stream",
     "text": [
      "\u001b[2m\u001b[36m(pid=32409)\u001b[0m /home/zhpeng/anaconda3/envs/uber/lib/python3.6/site-packages/tensorflow/python/framework/dtypes.py:516: FutureWarning: Passing (type, 1) or '1type' as a synonym of type is deprecated; in a future version of numpy, it will be understood as (type, (1,)) / '(1,)type'.\n",
      "\u001b[2m\u001b[36m(pid=32409)\u001b[0m   _np_qint8 = np.dtype([(\"qint8\", np.int8, 1)])\n",
      "\u001b[2m\u001b[36m(pid=32409)\u001b[0m /home/zhpeng/anaconda3/envs/uber/lib/python3.6/site-packages/tensorflow/python/framework/dtypes.py:517: FutureWarning: Passing (type, 1) or '1type' as a synonym of type is deprecated; in a future version of numpy, it will be understood as (type, (1,)) / '(1,)type'.\n",
      "\u001b[2m\u001b[36m(pid=32409)\u001b[0m   _np_quint8 = np.dtype([(\"quint8\", np.uint8, 1)])\n",
      "\u001b[2m\u001b[36m(pid=32409)\u001b[0m /home/zhpeng/anaconda3/envs/uber/lib/python3.6/site-packages/tensorflow/python/framework/dtypes.py:518: FutureWarning: Passing (type, 1) or '1type' as a synonym of type is deprecated; in a future version of numpy, it will be understood as (type, (1,)) / '(1,)type'.\n",
      "\u001b[2m\u001b[36m(pid=32409)\u001b[0m   _np_qint16 = np.dtype([(\"qint16\", np.int16, 1)])\n",
      "\u001b[2m\u001b[36m(pid=32408)\u001b[0m /home/zhpeng/anaconda3/envs/uber/lib/python3.6/site-packages/tensorflow/python/framework/dtypes.py:516: FutureWarning: Passing (type, 1) or '1type' as a synonym of type is deprecated; in a future version of numpy, it will be understood as (type, (1,)) / '(1,)type'.\n",
      "\u001b[2m\u001b[36m(pid=32408)\u001b[0m   _np_qint8 = np.dtype([(\"qint8\", np.int8, 1)])\n",
      "\u001b[2m\u001b[36m(pid=32408)\u001b[0m /home/zhpeng/anaconda3/envs/uber/lib/python3.6/site-packages/tensorflow/python/framework/dtypes.py:517: FutureWarning: Passing (type, 1) or '1type' as a synonym of type is deprecated; in a future version of numpy, it will be understood as (type, (1,)) / '(1,)type'.\n",
      "\u001b[2m\u001b[36m(pid=32408)\u001b[0m   _np_quint8 = np.dtype([(\"quint8\", np.uint8, 1)])\n",
      "\u001b[2m\u001b[36m(pid=32408)\u001b[0m /home/zhpeng/anaconda3/envs/uber/lib/python3.6/site-packages/tensorflow/python/framework/dtypes.py:518: FutureWarning: Passing (type, 1) or '1type' as a synonym of type is deprecated; in a future version of numpy, it will be understood as (type, (1,)) / '(1,)type'.\n",
      "\u001b[2m\u001b[36m(pid=32408)\u001b[0m   _np_qint16 = np.dtype([(\"qint16\", np.int16, 1)])\n",
      "\u001b[2m\u001b[36m(pid=32408)\u001b[0m /home/zhpeng/anaconda3/envs/uber/lib/python3.6/site-packages/tensorflow/python/framework/dtypes.py:519: FutureWarning: Passing (type, 1) or '1type' as a synonym of type is deprecated; in a future version of numpy, it will be understood as (type, (1,)) / '(1,)type'.\n",
      "\u001b[2m\u001b[36m(pid=32408)\u001b[0m   _np_quint16 = np.dtype([(\"quint16\", np.uint16, 1)])\n",
      "\u001b[2m\u001b[36m(pid=32408)\u001b[0m /home/zhpeng/anaconda3/envs/uber/lib/python3.6/site-packages/tensorflow/python/framework/dtypes.py:520: FutureWarning: Passing (type, 1) or '1type' as a synonym of type is deprecated; in a future version of numpy, it will be understood as (type, (1,)) / '(1,)type'.\n",
      "\u001b[2m\u001b[36m(pid=32408)\u001b[0m   _np_qint32 = np.dtype([(\"qint32\", np.int32, 1)])\n",
      "\u001b[2m\u001b[36m(pid=32408)\u001b[0m /home/zhpeng/anaconda3/envs/uber/lib/python3.6/site-packages/tensorflow/python/framework/dtypes.py:525: FutureWarning: Passing (type, 1) or '1type' as a synonym of type is deprecated; in a future version of numpy, it will be understood as (type, (1,)) / '(1,)type'.\n",
      "\u001b[2m\u001b[36m(pid=32408)\u001b[0m   np_resource = np.dtype([(\"resource\", np.ubyte, 1)])\n",
      "\u001b[2m\u001b[36m(pid=32409)\u001b[0m /home/zhpeng/anaconda3/envs/uber/lib/python3.6/site-packages/tensorflow/python/framework/dtypes.py:519: FutureWarning: Passing (type, 1) or '1type' as a synonym of type is deprecated; in a future version of numpy, it will be understood as (type, (1,)) / '(1,)type'.\n",
      "\u001b[2m\u001b[36m(pid=32409)\u001b[0m   _np_quint16 = np.dtype([(\"quint16\", np.uint16, 1)])\n",
      "\u001b[2m\u001b[36m(pid=32409)\u001b[0m /home/zhpeng/anaconda3/envs/uber/lib/python3.6/site-packages/tensorflow/python/framework/dtypes.py:520: FutureWarning: Passing (type, 1) or '1type' as a synonym of type is deprecated; in a future version of numpy, it will be understood as (type, (1,)) / '(1,)type'.\n",
      "\u001b[2m\u001b[36m(pid=32409)\u001b[0m   _np_qint32 = np.dtype([(\"qint32\", np.int32, 1)])\n",
      "\u001b[2m\u001b[36m(pid=32409)\u001b[0m /home/zhpeng/anaconda3/envs/uber/lib/python3.6/site-packages/tensorflow/python/framework/dtypes.py:525: FutureWarning: Passing (type, 1) or '1type' as a synonym of type is deprecated; in a future version of numpy, it will be understood as (type, (1,)) / '(1,)type'.\n",
      "\u001b[2m\u001b[36m(pid=32409)\u001b[0m   np_resource = np.dtype([(\"resource\", np.ubyte, 1)])\n",
      "\u001b[2m\u001b[36m(pid=32409)\u001b[0m /home/zhpeng/anaconda3/envs/uber/lib/python3.6/site-packages/tensorboard/compat/tensorflow_stub/dtypes.py:541: FutureWarning: Passing (type, 1) or '1type' as a synonym of type is deprecated; in a future version of numpy, it will be understood as (type, (1,)) / '(1,)type'.\n",
      "\u001b[2m\u001b[36m(pid=32409)\u001b[0m   _np_qint8 = np.dtype([(\"qint8\", np.int8, 1)])\n",
      "\u001b[2m\u001b[36m(pid=32409)\u001b[0m /home/zhpeng/anaconda3/envs/uber/lib/python3.6/site-packages/tensorboard/compat/tensorflow_stub/dtypes.py:542: FutureWarning: Passing (type, 1) or '1type' as a synonym of type is deprecated; in a future version of numpy, it will be understood as (type, (1,)) / '(1,)type'.\n",
      "\u001b[2m\u001b[36m(pid=32409)\u001b[0m   _np_quint8 = np.dtype([(\"quint8\", np.uint8, 1)])\n",
      "\u001b[2m\u001b[36m(pid=32409)\u001b[0m /home/zhpeng/anaconda3/envs/uber/lib/python3.6/site-packages/tensorboard/compat/tensorflow_stub/dtypes.py:543: FutureWarning: Passing (type, 1) or '1type' as a synonym of type is deprecated; in a future version of numpy, it will be understood as (type, (1,)) / '(1,)type'.\n",
      "\u001b[2m\u001b[36m(pid=32409)\u001b[0m   _np_qint16 = np.dtype([(\"qint16\", np.int16, 1)])\n",
      "\u001b[2m\u001b[36m(pid=32409)\u001b[0m /home/zhpeng/anaconda3/envs/uber/lib/python3.6/site-packages/tensorboard/compat/tensorflow_stub/dtypes.py:544: FutureWarning: Passing (type, 1) or '1type' as a synonym of type is deprecated; in a future version of numpy, it will be understood as (type, (1,)) / '(1,)type'.\n",
      "\u001b[2m\u001b[36m(pid=32409)\u001b[0m   _np_quint16 = np.dtype([(\"quint16\", np.uint16, 1)])\n",
      "\u001b[2m\u001b[36m(pid=32409)\u001b[0m /home/zhpeng/anaconda3/envs/uber/lib/python3.6/site-packages/tensorboard/compat/tensorflow_stub/dtypes.py:545: FutureWarning: Passing (type, 1) or '1type' as a synonym of type is deprecated; in a future version of numpy, it will be understood as (type, (1,)) / '(1,)type'.\n",
      "\u001b[2m\u001b[36m(pid=32409)\u001b[0m   _np_qint32 = np.dtype([(\"qint32\", np.int32, 1)])\n",
      "\u001b[2m\u001b[36m(pid=32409)\u001b[0m /home/zhpeng/anaconda3/envs/uber/lib/python3.6/site-packages/tensorboard/compat/tensorflow_stub/dtypes.py:550: FutureWarning: Passing (type, 1) or '1type' as a synonym of type is deprecated; in a future version of numpy, it will be understood as (type, (1,)) / '(1,)type'.\n",
      "\u001b[2m\u001b[36m(pid=32409)\u001b[0m   np_resource = np.dtype([(\"resource\", np.ubyte, 1)])\n",
      "\u001b[2m\u001b[36m(pid=32408)\u001b[0m /home/zhpeng/anaconda3/envs/uber/lib/python3.6/site-packages/tensorboard/compat/tensorflow_stub/dtypes.py:541: FutureWarning: Passing (type, 1) or '1type' as a synonym of type is deprecated; in a future version of numpy, it will be understood as (type, (1,)) / '(1,)type'.\n",
      "\u001b[2m\u001b[36m(pid=32408)\u001b[0m   _np_qint8 = np.dtype([(\"qint8\", np.int8, 1)])\n",
      "\u001b[2m\u001b[36m(pid=32408)\u001b[0m /home/zhpeng/anaconda3/envs/uber/lib/python3.6/site-packages/tensorboard/compat/tensorflow_stub/dtypes.py:542: FutureWarning: Passing (type, 1) or '1type' as a synonym of type is deprecated; in a future version of numpy, it will be understood as (type, (1,)) / '(1,)type'.\n",
      "\u001b[2m\u001b[36m(pid=32408)\u001b[0m   _np_quint8 = np.dtype([(\"quint8\", np.uint8, 1)])\n",
      "\u001b[2m\u001b[36m(pid=32408)\u001b[0m /home/zhpeng/anaconda3/envs/uber/lib/python3.6/site-packages/tensorboard/compat/tensorflow_stub/dtypes.py:543: FutureWarning: Passing (type, 1) or '1type' as a synonym of type is deprecated; in a future version of numpy, it will be understood as (type, (1,)) / '(1,)type'.\n",
      "\u001b[2m\u001b[36m(pid=32408)\u001b[0m   _np_qint16 = np.dtype([(\"qint16\", np.int16, 1)])\n",
      "\u001b[2m\u001b[36m(pid=32408)\u001b[0m /home/zhpeng/anaconda3/envs/uber/lib/python3.6/site-packages/tensorboard/compat/tensorflow_stub/dtypes.py:544: FutureWarning: Passing (type, 1) or '1type' as a synonym of type is deprecated; in a future version of numpy, it will be understood as (type, (1,)) / '(1,)type'.\n",
      "\u001b[2m\u001b[36m(pid=32408)\u001b[0m   _np_quint16 = np.dtype([(\"quint16\", np.uint16, 1)])\n",
      "\u001b[2m\u001b[36m(pid=32408)\u001b[0m /home/zhpeng/anaconda3/envs/uber/lib/python3.6/site-packages/tensorboard/compat/tensorflow_stub/dtypes.py:545: FutureWarning: Passing (type, 1) or '1type' as a synonym of type is deprecated; in a future version of numpy, it will be understood as (type, (1,)) / '(1,)type'.\n",
      "\u001b[2m\u001b[36m(pid=32408)\u001b[0m   _np_qint32 = np.dtype([(\"qint32\", np.int32, 1)])\n",
      "\u001b[2m\u001b[36m(pid=32408)\u001b[0m /home/zhpeng/anaconda3/envs/uber/lib/python3.6/site-packages/tensorboard/compat/tensorflow_stub/dtypes.py:550: FutureWarning: Passing (type, 1) or '1type' as a synonym of type is deprecated; in a future version of numpy, it will be understood as (type, (1,)) / '(1,)type'.\n",
      "\u001b[2m\u001b[36m(pid=32408)\u001b[0m   np_resource = np.dtype([(\"resource\", np.ubyte, 1)])\n",
      "\u001b[2m\u001b[36m(pid=32409)\u001b[0m WARNING:tensorflow:From /home/zhpeng/anaconda3/envs/uber/lib/python3.6/site-packages/tensorflow/python/compat/v2_compat.py:61: disable_resource_variables (from tensorflow.python.ops.variable_scope) is deprecated and will be removed in a future version.\n",
      "\u001b[2m\u001b[36m(pid=32409)\u001b[0m Instructions for updating:\n",
      "\u001b[2m\u001b[36m(pid=32409)\u001b[0m non-resource variables are not supported in the long term\n",
      "\u001b[2m\u001b[36m(pid=32408)\u001b[0m WARNING:tensorflow:From /home/zhpeng/anaconda3/envs/uber/lib/python3.6/site-packages/tensorflow/python/compat/v2_compat.py:61: disable_resource_variables (from tensorflow.python.ops.variable_scope) is deprecated and will be removed in a future version.\n",
      "\u001b[2m\u001b[36m(pid=32408)\u001b[0m Instructions for updating:\n",
      "\u001b[2m\u001b[36m(pid=32408)\u001b[0m non-resource variables are not supported in the long term\n"
     ]
    },
    {
     "name": "stdout",
     "output_type": "stream",
     "text": [
      "\u001b[2m\u001b[36m(pid=32408)\u001b[0m 2019-09-05 18:43:34,474\tINFO rollout_worker.py:319 -- Creating policy evaluation worker 2 on CPU (please ignore any CUDA init errors)\n",
      "\u001b[2m\u001b[36m(pid=32409)\u001b[0m 2019-09-05 18:43:34,457\tINFO rollout_worker.py:319 -- Creating policy evaluation worker 1 on CPU (please ignore any CUDA init errors)\n",
      "\u001b[2m\u001b[36m(pid=32409)\u001b[0m 2019-09-05 18:43:34.480461: I tensorflow/core/platform/cpu_feature_guard.cc:142] Your CPU supports instructions that this TensorFlow binary was not compiled to use: AVX2 FMA\n",
      "\u001b[2m\u001b[36m(pid=32408)\u001b[0m 2019-09-05 18:43:34.501465: I tensorflow/core/platform/cpu_feature_guard.cc:142] Your CPU supports instructions that this TensorFlow binary was not compiled to use: AVX2 FMA\n",
      "\u001b[2m\u001b[36m(pid=32408)\u001b[0m 2019-09-05 18:43:34.511314: I tensorflow/stream_executor/platform/default/dso_loader.cc:42] Successfully opened dynamic library libcuda.so.1\n",
      "\u001b[2m\u001b[36m(pid=32408)\u001b[0m 2019-09-05 18:43:34.533305: E tensorflow/stream_executor/cuda/cuda_driver.cc:318] failed call to cuInit: CUDA_ERROR_NO_DEVICE: no CUDA-capable device is detected\n",
      "\u001b[2m\u001b[36m(pid=32408)\u001b[0m 2019-09-05 18:43:34.533400: I tensorflow/stream_executor/cuda/cuda_diagnostics.cc:169] retrieving CUDA diagnostic information for host: cdc-24\n",
      "\u001b[2m\u001b[36m(pid=32408)\u001b[0m 2019-09-05 18:43:34.533420: I tensorflow/stream_executor/cuda/cuda_diagnostics.cc:176] hostname: cdc-24\n",
      "\u001b[2m\u001b[36m(pid=32408)\u001b[0m 2019-09-05 18:43:34.533559: I tensorflow/stream_executor/cuda/cuda_diagnostics.cc:200] libcuda reported version is: 418.56.0\n",
      "\u001b[2m\u001b[36m(pid=32408)\u001b[0m 2019-09-05 18:43:34.533622: I tensorflow/stream_executor/cuda/cuda_diagnostics.cc:204] kernel reported version is: 418.56.0\n",
      "\u001b[2m\u001b[36m(pid=32408)\u001b[0m 2019-09-05 18:43:34.533644: I tensorflow/stream_executor/cuda/cuda_diagnostics.cc:310] kernel version seems to match DSO: 418.56.0\n",
      "\u001b[2m\u001b[36m(pid=32408)\u001b[0m 2019-09-05 18:43:34.537398: I tensorflow/core/platform/profile_utils/cpu_utils.cc:94] CPU Frequency: 2599845000 Hz\n",
      "\u001b[2m\u001b[36m(pid=32409)\u001b[0m 2019-09-05 18:43:34.490640: I tensorflow/stream_executor/platform/default/dso_loader.cc:42] Successfully opened dynamic library libcuda.so.1\n",
      "\u001b[2m\u001b[36m(pid=32409)\u001b[0m 2019-09-05 18:43:34.513809: E tensorflow/stream_executor/cuda/cuda_driver.cc:318] failed call to cuInit: CUDA_ERROR_NO_DEVICE: no CUDA-capable device is detected\n",
      "\u001b[2m\u001b[36m(pid=32409)\u001b[0m 2019-09-05 18:43:34.513892: I tensorflow/stream_executor/cuda/cuda_diagnostics.cc:169] retrieving CUDA diagnostic information for host: cdc-24\n",
      "\u001b[2m\u001b[36m(pid=32409)\u001b[0m 2019-09-05 18:43:34.513915: I tensorflow/stream_executor/cuda/cuda_diagnostics.cc:176] hostname: cdc-24\n",
      "\u001b[2m\u001b[36m(pid=32409)\u001b[0m 2019-09-05 18:43:34.514054: I tensorflow/stream_executor/cuda/cuda_diagnostics.cc:200] libcuda reported version is: 418.56.0\n",
      "\u001b[2m\u001b[36m(pid=32409)\u001b[0m 2019-09-05 18:43:34.514117: I tensorflow/stream_executor/cuda/cuda_diagnostics.cc:204] kernel reported version is: 418.56.0\n",
      "\u001b[2m\u001b[36m(pid=32409)\u001b[0m 2019-09-05 18:43:34.514137: I tensorflow/stream_executor/cuda/cuda_diagnostics.cc:310] kernel version seems to match DSO: 418.56.0\n",
      "\u001b[2m\u001b[36m(pid=32409)\u001b[0m 2019-09-05 18:43:34.537058: I tensorflow/core/platform/profile_utils/cpu_utils.cc:94] CPU Frequency: 2599845000 Hz\n",
      "\u001b[2m\u001b[36m(pid=32408)\u001b[0m 2019-09-05 18:43:34.539905: I tensorflow/compiler/xla/service/service.cc:168] XLA service 0x5597fa2cae60 executing computations on platform Host. Devices:\n",
      "\u001b[2m\u001b[36m(pid=32408)\u001b[0m 2019-09-05 18:43:34.539937: I tensorflow/compiler/xla/service/service.cc:175]   StreamExecutor device (0): <undefined>, <undefined>\n",
      "\u001b[2m\u001b[36m(pid=32409)\u001b[0m 2019-09-05 18:43:34.541568: I tensorflow/compiler/xla/service/service.cc:168] XLA service 0x5618deea1640 executing computations on platform Host. Devices:\n",
      "\u001b[2m\u001b[36m(pid=32409)\u001b[0m 2019-09-05 18:43:34.541608: I tensorflow/compiler/xla/service/service.cc:175]   StreamExecutor device (0): <undefined>, <undefined>\n",
      "\u001b[2m\u001b[36m(pid=32408)\u001b[0m WARNING:tensorflow:From /home/zhpeng/anaconda3/envs/uber/lib/python3.6/site-packages/ray/rllib/models/tf/tf_action_dist.py:138: to_float (from tensorflow.python.ops.math_ops) is deprecated and will be removed in a future version.\n",
      "\u001b[2m\u001b[36m(pid=32408)\u001b[0m Instructions for updating:\n",
      "\u001b[2m\u001b[36m(pid=32408)\u001b[0m Use `tf.cast` instead.\n",
      "\u001b[2m\u001b[36m(pid=32409)\u001b[0m WARNING:tensorflow:From /home/zhpeng/anaconda3/envs/uber/lib/python3.6/site-packages/ray/rllib/models/tf/tf_action_dist.py:138: to_float (from tensorflow.python.ops.math_ops) is deprecated and will be removed in a future version.\n",
      "\u001b[2m\u001b[36m(pid=32409)\u001b[0m Instructions for updating:\n",
      "\u001b[2m\u001b[36m(pid=32409)\u001b[0m Use `tf.cast` instead.\n",
      "\u001b[2m\u001b[36m(pid=32408)\u001b[0m 2019-09-05 18:43:34.876023: W tensorflow/compiler/jit/mark_for_compilation_pass.cc:1412] (One-time warning): Not using XLA:CPU for cluster because envvar TF_XLA_FLAGS=--tf_xla_cpu_global_jit was not set.  If you want XLA:CPU, either set that envvar, or use experimental_jit_scope to enable XLA:CPU.  To confirm that XLA is active, pass --vmodule=xla_compilation_cache=1 (as a proper command-line flag, not via TF_XLA_FLAGS) or set the envvar XLA_FLAGS=--xla_hlo_profile.\n",
      "\u001b[2m\u001b[36m(pid=32409)\u001b[0m 2019-09-05 18:43:34.879273: W tensorflow/compiler/jit/mark_for_compilation_pass.cc:1412] (One-time warning): Not using XLA:CPU for cluster because envvar TF_XLA_FLAGS=--tf_xla_cpu_global_jit was not set.  If you want XLA:CPU, either set that envvar, or use experimental_jit_scope to enable XLA:CPU.  To confirm that XLA is active, pass --vmodule=xla_compilation_cache=1 (as a proper command-line flag, not via TF_XLA_FLAGS) or set the envvar XLA_FLAGS=--xla_hlo_profile.\n",
      "\u001b[2m\u001b[36m(pid=32409)\u001b[0m 2019-09-05 18:43:34,912\tINFO dynamic_tf_policy.py:324 -- Initializing loss function with dummy input:\n",
      "\u001b[2m\u001b[36m(pid=32409)\u001b[0m \n",
      "\u001b[2m\u001b[36m(pid=32409)\u001b[0m { 'action_prob': <tf.Tensor 'default_policy/action_prob:0' shape=(?,) dtype=float32>,\n",
      "\u001b[2m\u001b[36m(pid=32409)\u001b[0m   'actions': <tf.Tensor 'default_policy/actions:0' shape=(?, 4) dtype=float32>,\n",
      "\u001b[2m\u001b[36m(pid=32409)\u001b[0m   'advantages': <tf.Tensor 'default_policy/advantages:0' shape=(?,) dtype=float32>,\n",
      "\u001b[2m\u001b[36m(pid=32409)\u001b[0m   'behaviour_logits': <tf.Tensor 'default_policy/behaviour_logits:0' shape=(?, 8) dtype=float32>,\n",
      "\u001b[2m\u001b[36m(pid=32409)\u001b[0m   'dones': <tf.Tensor 'default_policy/dones:0' shape=(?,) dtype=bool>,\n",
      "\u001b[2m\u001b[36m(pid=32409)\u001b[0m   'new_obs': <tf.Tensor 'default_policy/new_obs:0' shape=(?, 24) dtype=float32>,\n",
      "\u001b[2m\u001b[36m(pid=32409)\u001b[0m   'obs': <tf.Tensor 'default_policy/observation:0' shape=(?, 24) dtype=float32>,\n",
      "\u001b[2m\u001b[36m(pid=32409)\u001b[0m   'prev_actions': <tf.Tensor 'default_policy/action:0' shape=(?, 4) dtype=float32>,\n",
      "\u001b[2m\u001b[36m(pid=32409)\u001b[0m   'prev_rewards': <tf.Tensor 'default_policy/prev_reward:0' shape=(?,) dtype=float32>,\n",
      "\u001b[2m\u001b[36m(pid=32409)\u001b[0m   'rewards': <tf.Tensor 'default_policy/rewards:0' shape=(?,) dtype=float32>,\n",
      "\u001b[2m\u001b[36m(pid=32409)\u001b[0m   'value_targets': <tf.Tensor 'default_policy/value_targets:0' shape=(?,) dtype=float32>,\n",
      "\u001b[2m\u001b[36m(pid=32409)\u001b[0m   'vf_preds': <tf.Tensor 'default_policy/vf_preds:0' shape=(?,) dtype=float32>}\n",
      "\u001b[2m\u001b[36m(pid=32409)\u001b[0m \n",
      "\u001b[2m\u001b[36m(pid=32408)\u001b[0m WARNING:tensorflow:From /home/zhpeng/anaconda3/envs/uber/lib/python3.6/site-packages/tensorflow/python/ops/array_ops.py:1354: add_dispatch_support.<locals>.wrapper (from tensorflow.python.ops.array_ops) is deprecated and will be removed in a future version.\n",
      "\u001b[2m\u001b[36m(pid=32408)\u001b[0m Instructions for updating:\n",
      "\u001b[2m\u001b[36m(pid=32408)\u001b[0m Use tf.where in 2.0, which has the same broadcast rule as np.where\n",
      "\u001b[2m\u001b[36m(pid=32409)\u001b[0m WARNING:tensorflow:From /home/zhpeng/anaconda3/envs/uber/lib/python3.6/site-packages/tensorflow/python/ops/array_ops.py:1354: add_dispatch_support.<locals>.wrapper (from tensorflow.python.ops.array_ops) is deprecated and will be removed in a future version.\n",
      "\u001b[2m\u001b[36m(pid=32409)\u001b[0m Instructions for updating:\n",
      "\u001b[2m\u001b[36m(pid=32409)\u001b[0m Use tf.where in 2.0, which has the same broadcast rule as np.where\n",
      "[] []\n",
      "0\n",
      "0\n",
      "6406\n",
      "6353\n"
     ]
    }
   ],
   "source": [
    "a = _get_ppo_agent(\"BipedalWalker-v2\")\n",
    "check_agent(a)"
   ]
  },
  {
   "cell_type": "code",
   "execution_count": 6,
   "metadata": {},
   "outputs": [
    {
     "name": "stderr",
     "output_type": "stream",
     "text": [
      "2019-09-05 18:43:37,396\tWARNING __init__.py:54 -- DeprecationWarning: PPO has been renamed to ray.rllib.agents.trainer_template.PPO. This will raise an error in the future.\n",
      "2019-09-05 18:43:37,399\tWARNING ppo.py:143 -- FYI: By default, the value function will not share layers with the policy model ('vf_share_layers': False).\n",
      "2019-09-05 18:43:37,412\tINFO rollout_worker.py:319 -- Creating policy evaluation worker 0 on CPU (please ignore any CUDA init errors)\n",
      "2019-09-05 18:43:39,302\tINFO rollout_worker.py:742 -- Built policy map: {'default_policy': <ray.rllib.policy.tf_policy_template.PPOTFPolicy object at 0x7fe36d9b5978>}\n",
      "2019-09-05 18:43:39,305\tINFO rollout_worker.py:743 -- Built preprocessor map: {'default_policy': <ray.rllib.models.preprocessors.NoPreprocessor object at 0x7fe36d9b5898>}\n",
      "2019-09-05 18:43:39,306\tINFO rollout_worker.py:356 -- Built filter map: {'default_policy': <ray.rllib.utils.filter.NoFilter object at 0x7fe36d9b5668>}\n",
      "2019-09-05 18:43:39,351\tINFO multi_gpu_optimizer.py:93 -- LocalMultiGPUOptimizer devices ['/cpu:0']\n"
     ]
    },
    {
     "name": "stdout",
     "output_type": "stream",
     "text": [
      "\u001b[2m\u001b[36m(pid=32397)\u001b[0m /home/zhpeng/anaconda3/envs/uber/lib/python3.6/site-packages/tensorflow/python/framework/dtypes.py:516: FutureWarning: Passing (type, 1) or '1type' as a synonym of type is deprecated; in a future version of numpy, it will be understood as (type, (1,)) / '(1,)type'.\n",
      "\u001b[2m\u001b[36m(pid=32397)\u001b[0m   _np_qint8 = np.dtype([(\"qint8\", np.int8, 1)])\n",
      "\u001b[2m\u001b[36m(pid=32397)\u001b[0m /home/zhpeng/anaconda3/envs/uber/lib/python3.6/site-packages/tensorflow/python/framework/dtypes.py:517: FutureWarning: Passing (type, 1) or '1type' as a synonym of type is deprecated; in a future version of numpy, it will be understood as (type, (1,)) / '(1,)type'.\n",
      "\u001b[2m\u001b[36m(pid=32397)\u001b[0m   _np_quint8 = np.dtype([(\"quint8\", np.uint8, 1)])\n",
      "\u001b[2m\u001b[36m(pid=32397)\u001b[0m /home/zhpeng/anaconda3/envs/uber/lib/python3.6/site-packages/tensorflow/python/framework/dtypes.py:518: FutureWarning: Passing (type, 1) or '1type' as a synonym of type is deprecated; in a future version of numpy, it will be understood as (type, (1,)) / '(1,)type'.\n",
      "\u001b[2m\u001b[36m(pid=32397)\u001b[0m   _np_qint16 = np.dtype([(\"qint16\", np.int16, 1)])\n",
      "\u001b[2m\u001b[36m(pid=32397)\u001b[0m /home/zhpeng/anaconda3/envs/uber/lib/python3.6/site-packages/tensorflow/python/framework/dtypes.py:519: FutureWarning: Passing (type, 1) or '1type' as a synonym of type is deprecated; in a future version of numpy, it will be understood as (type, (1,)) / '(1,)type'.\n",
      "\u001b[2m\u001b[36m(pid=32397)\u001b[0m   _np_quint16 = np.dtype([(\"quint16\", np.uint16, 1)])\n",
      "\u001b[2m\u001b[36m(pid=32397)\u001b[0m /home/zhpeng/anaconda3/envs/uber/lib/python3.6/site-packages/tensorflow/python/framework/dtypes.py:520: FutureWarning: Passing (type, 1) or '1type' as a synonym of type is deprecated; in a future version of numpy, it will be understood as (type, (1,)) / '(1,)type'.\n",
      "\u001b[2m\u001b[36m(pid=32397)\u001b[0m   _np_qint32 = np.dtype([(\"qint32\", np.int32, 1)])\n",
      "\u001b[2m\u001b[36m(pid=32397)\u001b[0m /home/zhpeng/anaconda3/envs/uber/lib/python3.6/site-packages/tensorflow/python/framework/dtypes.py:525: FutureWarning: Passing (type, 1) or '1type' as a synonym of type is deprecated; in a future version of numpy, it will be understood as (type, (1,)) / '(1,)type'.\n",
      "\u001b[2m\u001b[36m(pid=32397)\u001b[0m   np_resource = np.dtype([(\"resource\", np.ubyte, 1)])\n",
      "\u001b[2m\u001b[36m(pid=32410)\u001b[0m /home/zhpeng/anaconda3/envs/uber/lib/python3.6/site-packages/tensorflow/python/framework/dtypes.py:516: FutureWarning: Passing (type, 1) or '1type' as a synonym of type is deprecated; in a future version of numpy, it will be understood as (type, (1,)) / '(1,)type'.\n",
      "\u001b[2m\u001b[36m(pid=32410)\u001b[0m   _np_qint8 = np.dtype([(\"qint8\", np.int8, 1)])\n",
      "\u001b[2m\u001b[36m(pid=32410)\u001b[0m /home/zhpeng/anaconda3/envs/uber/lib/python3.6/site-packages/tensorflow/python/framework/dtypes.py:517: FutureWarning: Passing (type, 1) or '1type' as a synonym of type is deprecated; in a future version of numpy, it will be understood as (type, (1,)) / '(1,)type'.\n",
      "\u001b[2m\u001b[36m(pid=32410)\u001b[0m   _np_quint8 = np.dtype([(\"quint8\", np.uint8, 1)])\n",
      "\u001b[2m\u001b[36m(pid=32410)\u001b[0m /home/zhpeng/anaconda3/envs/uber/lib/python3.6/site-packages/tensorflow/python/framework/dtypes.py:518: FutureWarning: Passing (type, 1) or '1type' as a synonym of type is deprecated; in a future version of numpy, it will be understood as (type, (1,)) / '(1,)type'.\n",
      "\u001b[2m\u001b[36m(pid=32410)\u001b[0m   _np_qint16 = np.dtype([(\"qint16\", np.int16, 1)])\n",
      "\u001b[2m\u001b[36m(pid=32410)\u001b[0m /home/zhpeng/anaconda3/envs/uber/lib/python3.6/site-packages/tensorflow/python/framework/dtypes.py:519: FutureWarning: Passing (type, 1) or '1type' as a synonym of type is deprecated; in a future version of numpy, it will be understood as (type, (1,)) / '(1,)type'.\n",
      "\u001b[2m\u001b[36m(pid=32410)\u001b[0m   _np_quint16 = np.dtype([(\"quint16\", np.uint16, 1)])\n",
      "\u001b[2m\u001b[36m(pid=32410)\u001b[0m /home/zhpeng/anaconda3/envs/uber/lib/python3.6/site-packages/tensorflow/python/framework/dtypes.py:520: FutureWarning: Passing (type, 1) or '1type' as a synonym of type is deprecated; in a future version of numpy, it will be understood as (type, (1,)) / '(1,)type'.\n",
      "\u001b[2m\u001b[36m(pid=32410)\u001b[0m   _np_qint32 = np.dtype([(\"qint32\", np.int32, 1)])\n",
      "\u001b[2m\u001b[36m(pid=32410)\u001b[0m /home/zhpeng/anaconda3/envs/uber/lib/python3.6/site-packages/tensorflow/python/framework/dtypes.py:525: FutureWarning: Passing (type, 1) or '1type' as a synonym of type is deprecated; in a future version of numpy, it will be understood as (type, (1,)) / '(1,)type'.\n",
      "\u001b[2m\u001b[36m(pid=32410)\u001b[0m   np_resource = np.dtype([(\"resource\", np.ubyte, 1)])\n",
      "\u001b[2m\u001b[36m(pid=32397)\u001b[0m /home/zhpeng/anaconda3/envs/uber/lib/python3.6/site-packages/tensorboard/compat/tensorflow_stub/dtypes.py:541: FutureWarning: Passing (type, 1) or '1type' as a synonym of type is deprecated; in a future version of numpy, it will be understood as (type, (1,)) / '(1,)type'.\n",
      "\u001b[2m\u001b[36m(pid=32397)\u001b[0m   _np_qint8 = np.dtype([(\"qint8\", np.int8, 1)])\n",
      "\u001b[2m\u001b[36m(pid=32397)\u001b[0m /home/zhpeng/anaconda3/envs/uber/lib/python3.6/site-packages/tensorboard/compat/tensorflow_stub/dtypes.py:542: FutureWarning: Passing (type, 1) or '1type' as a synonym of type is deprecated; in a future version of numpy, it will be understood as (type, (1,)) / '(1,)type'.\n",
      "\u001b[2m\u001b[36m(pid=32397)\u001b[0m   _np_quint8 = np.dtype([(\"quint8\", np.uint8, 1)])\n",
      "\u001b[2m\u001b[36m(pid=32397)\u001b[0m /home/zhpeng/anaconda3/envs/uber/lib/python3.6/site-packages/tensorboard/compat/tensorflow_stub/dtypes.py:543: FutureWarning: Passing (type, 1) or '1type' as a synonym of type is deprecated; in a future version of numpy, it will be understood as (type, (1,)) / '(1,)type'.\n",
      "\u001b[2m\u001b[36m(pid=32397)\u001b[0m   _np_qint16 = np.dtype([(\"qint16\", np.int16, 1)])\n",
      "\u001b[2m\u001b[36m(pid=32397)\u001b[0m /home/zhpeng/anaconda3/envs/uber/lib/python3.6/site-packages/tensorboard/compat/tensorflow_stub/dtypes.py:544: FutureWarning: Passing (type, 1) or '1type' as a synonym of type is deprecated; in a future version of numpy, it will be understood as (type, (1,)) / '(1,)type'.\n",
      "\u001b[2m\u001b[36m(pid=32397)\u001b[0m   _np_quint16 = np.dtype([(\"quint16\", np.uint16, 1)])\n",
      "\u001b[2m\u001b[36m(pid=32397)\u001b[0m /home/zhpeng/anaconda3/envs/uber/lib/python3.6/site-packages/tensorboard/compat/tensorflow_stub/dtypes.py:545: FutureWarning: Passing (type, 1) or '1type' as a synonym of type is deprecated; in a future version of numpy, it will be understood as (type, (1,)) / '(1,)type'.\n",
      "\u001b[2m\u001b[36m(pid=32397)\u001b[0m   _np_qint32 = np.dtype([(\"qint32\", np.int32, 1)])\n",
      "\u001b[2m\u001b[36m(pid=32397)\u001b[0m /home/zhpeng/anaconda3/envs/uber/lib/python3.6/site-packages/tensorboard/compat/tensorflow_stub/dtypes.py:550: FutureWarning: Passing (type, 1) or '1type' as a synonym of type is deprecated; in a future version of numpy, it will be understood as (type, (1,)) / '(1,)type'.\n",
      "\u001b[2m\u001b[36m(pid=32397)\u001b[0m   np_resource = np.dtype([(\"resource\", np.ubyte, 1)])\n",
      "\u001b[2m\u001b[36m(pid=32397)\u001b[0m WARNING:tensorflow:From /home/zhpeng/anaconda3/envs/uber/lib/python3.6/site-packages/tensorflow/python/compat/v2_compat.py:61: disable_resource_variables (from tensorflow.python.ops.variable_scope) is deprecated and will be removed in a future version.\n",
      "\u001b[2m\u001b[36m(pid=32397)\u001b[0m Instructions for updating:\n",
      "\u001b[2m\u001b[36m(pid=32397)\u001b[0m non-resource variables are not supported in the long term\n",
      "\u001b[2m\u001b[36m(pid=32410)\u001b[0m /home/zhpeng/anaconda3/envs/uber/lib/python3.6/site-packages/tensorboard/compat/tensorflow_stub/dtypes.py:541: FutureWarning: Passing (type, 1) or '1type' as a synonym of type is deprecated; in a future version of numpy, it will be understood as (type, (1,)) / '(1,)type'.\n",
      "\u001b[2m\u001b[36m(pid=32410)\u001b[0m   _np_qint8 = np.dtype([(\"qint8\", np.int8, 1)])\n",
      "\u001b[2m\u001b[36m(pid=32410)\u001b[0m /home/zhpeng/anaconda3/envs/uber/lib/python3.6/site-packages/tensorboard/compat/tensorflow_stub/dtypes.py:542: FutureWarning: Passing (type, 1) or '1type' as a synonym of type is deprecated; in a future version of numpy, it will be understood as (type, (1,)) / '(1,)type'.\n",
      "\u001b[2m\u001b[36m(pid=32410)\u001b[0m   _np_quint8 = np.dtype([(\"quint8\", np.uint8, 1)])\n",
      "\u001b[2m\u001b[36m(pid=32410)\u001b[0m /home/zhpeng/anaconda3/envs/uber/lib/python3.6/site-packages/tensorboard/compat/tensorflow_stub/dtypes.py:543: FutureWarning: Passing (type, 1) or '1type' as a synonym of type is deprecated; in a future version of numpy, it will be understood as (type, (1,)) / '(1,)type'.\n",
      "\u001b[2m\u001b[36m(pid=32410)\u001b[0m   _np_qint16 = np.dtype([(\"qint16\", np.int16, 1)])\n",
      "\u001b[2m\u001b[36m(pid=32410)\u001b[0m /home/zhpeng/anaconda3/envs/uber/lib/python3.6/site-packages/tensorboard/compat/tensorflow_stub/dtypes.py:544: FutureWarning: Passing (type, 1) or '1type' as a synonym of type is deprecated; in a future version of numpy, it will be understood as (type, (1,)) / '(1,)type'.\n",
      "\u001b[2m\u001b[36m(pid=32410)\u001b[0m   _np_quint16 = np.dtype([(\"quint16\", np.uint16, 1)])\n",
      "\u001b[2m\u001b[36m(pid=32410)\u001b[0m /home/zhpeng/anaconda3/envs/uber/lib/python3.6/site-packages/tensorboard/compat/tensorflow_stub/dtypes.py:545: FutureWarning: Passing (type, 1) or '1type' as a synonym of type is deprecated; in a future version of numpy, it will be understood as (type, (1,)) / '(1,)type'.\n",
      "\u001b[2m\u001b[36m(pid=32410)\u001b[0m   _np_qint32 = np.dtype([(\"qint32\", np.int32, 1)])\n",
      "\u001b[2m\u001b[36m(pid=32410)\u001b[0m /home/zhpeng/anaconda3/envs/uber/lib/python3.6/site-packages/tensorboard/compat/tensorflow_stub/dtypes.py:550: FutureWarning: Passing (type, 1) or '1type' as a synonym of type is deprecated; in a future version of numpy, it will be understood as (type, (1,)) / '(1,)type'.\n",
      "\u001b[2m\u001b[36m(pid=32410)\u001b[0m   np_resource = np.dtype([(\"resource\", np.ubyte, 1)])\n",
      "\u001b[2m\u001b[36m(pid=32410)\u001b[0m WARNING:tensorflow:From /home/zhpeng/anaconda3/envs/uber/lib/python3.6/site-packages/tensorflow/python/compat/v2_compat.py:61: disable_resource_variables (from tensorflow.python.ops.variable_scope) is deprecated and will be removed in a future version.\n",
      "\u001b[2m\u001b[36m(pid=32410)\u001b[0m Instructions for updating:\n",
      "\u001b[2m\u001b[36m(pid=32410)\u001b[0m non-resource variables are not supported in the long term\n"
     ]
    },
    {
     "name": "stdout",
     "output_type": "stream",
     "text": [
      "\u001b[2m\u001b[36m(pid=32397)\u001b[0m 2019-09-05 18:43:42,412\tINFO rollout_worker.py:319 -- Creating policy evaluation worker 1 on CPU (please ignore any CUDA init errors)\n",
      "\u001b[2m\u001b[36m(pid=32397)\u001b[0m 2019-09-05 18:43:42.435716: I tensorflow/core/platform/cpu_feature_guard.cc:142] Your CPU supports instructions that this TensorFlow binary was not compiled to use: AVX2 FMA\n",
      "\u001b[2m\u001b[36m(pid=32397)\u001b[0m 2019-09-05 18:43:42.445576: I tensorflow/stream_executor/platform/default/dso_loader.cc:42] Successfully opened dynamic library libcuda.so.1\n",
      "\u001b[2m\u001b[36m(pid=32397)\u001b[0m 2019-09-05 18:43:42.467338: E tensorflow/stream_executor/cuda/cuda_driver.cc:318] failed call to cuInit: CUDA_ERROR_NO_DEVICE: no CUDA-capable device is detected\n",
      "\u001b[2m\u001b[36m(pid=32397)\u001b[0m 2019-09-05 18:43:42.467437: I tensorflow/stream_executor/cuda/cuda_diagnostics.cc:169] retrieving CUDA diagnostic information for host: cdc-24\n",
      "\u001b[2m\u001b[36m(pid=32397)\u001b[0m 2019-09-05 18:43:42.467454: I tensorflow/stream_executor/cuda/cuda_diagnostics.cc:176] hostname: cdc-24\n",
      "\u001b[2m\u001b[36m(pid=32397)\u001b[0m 2019-09-05 18:43:42.467597: I tensorflow/stream_executor/cuda/cuda_diagnostics.cc:200] libcuda reported version is: 418.56.0\n",
      "\u001b[2m\u001b[36m(pid=32397)\u001b[0m 2019-09-05 18:43:42.467651: I tensorflow/stream_executor/cuda/cuda_diagnostics.cc:204] kernel reported version is: 418.56.0\n",
      "\u001b[2m\u001b[36m(pid=32397)\u001b[0m 2019-09-05 18:43:42.467663: I tensorflow/stream_executor/cuda/cuda_diagnostics.cc:310] kernel version seems to match DSO: 418.56.0\n",
      "\u001b[2m\u001b[36m(pid=32397)\u001b[0m 2019-09-05 18:43:42.489003: I tensorflow/core/platform/profile_utils/cpu_utils.cc:94] CPU Frequency: 2599845000 Hz\n",
      "\u001b[2m\u001b[36m(pid=32397)\u001b[0m 2019-09-05 18:43:42.492090: I tensorflow/compiler/xla/service/service.cc:168] XLA service 0x55a9f844f960 executing computations on platform Host. Devices:\n",
      "\u001b[2m\u001b[36m(pid=32397)\u001b[0m 2019-09-05 18:43:42.492152: I tensorflow/compiler/xla/service/service.cc:175]   StreamExecutor device (0): <undefined>, <undefined>\n",
      "\u001b[2m\u001b[36m(pid=32410)\u001b[0m 2019-09-05 18:43:42,484\tINFO rollout_worker.py:319 -- Creating policy evaluation worker 2 on CPU (please ignore any CUDA init errors)\n",
      "\u001b[2m\u001b[36m(pid=32410)\u001b[0m 2019-09-05 18:43:42.517471: I tensorflow/core/platform/cpu_feature_guard.cc:142] Your CPU supports instructions that this TensorFlow binary was not compiled to use: AVX2 FMA\n",
      "\u001b[2m\u001b[36m(pid=32410)\u001b[0m 2019-09-05 18:43:42.526768: I tensorflow/stream_executor/platform/default/dso_loader.cc:42] Successfully opened dynamic library libcuda.so.1\n",
      "\u001b[2m\u001b[36m(pid=32410)\u001b[0m 2019-09-05 18:43:42.550488: E tensorflow/stream_executor/cuda/cuda_driver.cc:318] failed call to cuInit: CUDA_ERROR_NO_DEVICE: no CUDA-capable device is detected\n",
      "\u001b[2m\u001b[36m(pid=32410)\u001b[0m 2019-09-05 18:43:42.550579: I tensorflow/stream_executor/cuda/cuda_diagnostics.cc:169] retrieving CUDA diagnostic information for host: cdc-24\n",
      "\u001b[2m\u001b[36m(pid=32410)\u001b[0m 2019-09-05 18:43:42.550590: I tensorflow/stream_executor/cuda/cuda_diagnostics.cc:176] hostname: cdc-24\n",
      "\u001b[2m\u001b[36m(pid=32410)\u001b[0m 2019-09-05 18:43:42.550703: I tensorflow/stream_executor/cuda/cuda_diagnostics.cc:200] libcuda reported version is: 418.56.0\n",
      "\u001b[2m\u001b[36m(pid=32410)\u001b[0m 2019-09-05 18:43:42.550748: I tensorflow/stream_executor/cuda/cuda_diagnostics.cc:204] kernel reported version is: 418.56.0\n",
      "\u001b[2m\u001b[36m(pid=32410)\u001b[0m 2019-09-05 18:43:42.550759: I tensorflow/stream_executor/cuda/cuda_diagnostics.cc:310] kernel version seems to match DSO: 418.56.0\n",
      "\u001b[2m\u001b[36m(pid=32410)\u001b[0m 2019-09-05 18:43:42.554045: I tensorflow/core/platform/profile_utils/cpu_utils.cc:94] CPU Frequency: 2599845000 Hz\n",
      "\u001b[2m\u001b[36m(pid=32410)\u001b[0m 2019-09-05 18:43:42.556374: I tensorflow/compiler/xla/service/service.cc:168] XLA service 0x55f3ee2ce650 executing computations on platform Host. Devices:\n",
      "\u001b[2m\u001b[36m(pid=32410)\u001b[0m 2019-09-05 18:43:42.556441: I tensorflow/compiler/xla/service/service.cc:175]   StreamExecutor device (0): <undefined>, <undefined>\n",
      "\u001b[2m\u001b[36m(pid=32397)\u001b[0m WARNING:tensorflow:From /home/zhpeng/anaconda3/envs/uber/lib/python3.6/site-packages/ray/rllib/models/tf/tf_action_dist.py:138: to_float (from tensorflow.python.ops.math_ops) is deprecated and will be removed in a future version.\n",
      "\u001b[2m\u001b[36m(pid=32397)\u001b[0m Instructions for updating:\n",
      "\u001b[2m\u001b[36m(pid=32397)\u001b[0m Use `tf.cast` instead.\n",
      "\u001b[2m\u001b[36m(pid=32397)\u001b[0m 2019-09-05 18:43:42.894719: W tensorflow/compiler/jit/mark_for_compilation_pass.cc:1412] (One-time warning): Not using XLA:CPU for cluster because envvar TF_XLA_FLAGS=--tf_xla_cpu_global_jit was not set.  If you want XLA:CPU, either set that envvar, or use experimental_jit_scope to enable XLA:CPU.  To confirm that XLA is active, pass --vmodule=xla_compilation_cache=1 (as a proper command-line flag, not via TF_XLA_FLAGS) or set the envvar XLA_FLAGS=--xla_hlo_profile.\n",
      "\u001b[2m\u001b[36m(pid=32397)\u001b[0m 2019-09-05 18:43:42,927\tINFO dynamic_tf_policy.py:324 -- Initializing loss function with dummy input:\n",
      "\u001b[2m\u001b[36m(pid=32397)\u001b[0m \n",
      "\u001b[2m\u001b[36m(pid=32397)\u001b[0m { 'action_prob': <tf.Tensor 'default_policy/action_prob:0' shape=(?,) dtype=float32>,\n",
      "\u001b[2m\u001b[36m(pid=32397)\u001b[0m   'actions': <tf.Tensor 'default_policy/actions:0' shape=(?, 4) dtype=float32>,\n",
      "\u001b[2m\u001b[36m(pid=32397)\u001b[0m   'advantages': <tf.Tensor 'default_policy/advantages:0' shape=(?,) dtype=float32>,\n",
      "\u001b[2m\u001b[36m(pid=32397)\u001b[0m   'behaviour_logits': <tf.Tensor 'default_policy/behaviour_logits:0' shape=(?, 8) dtype=float32>,\n",
      "\u001b[2m\u001b[36m(pid=32397)\u001b[0m   'dones': <tf.Tensor 'default_policy/dones:0' shape=(?,) dtype=bool>,\n",
      "\u001b[2m\u001b[36m(pid=32397)\u001b[0m   'new_obs': <tf.Tensor 'default_policy/new_obs:0' shape=(?, 24) dtype=float32>,\n",
      "\u001b[2m\u001b[36m(pid=32397)\u001b[0m   'obs': <tf.Tensor 'default_policy/observation:0' shape=(?, 24) dtype=float32>,\n",
      "\u001b[2m\u001b[36m(pid=32397)\u001b[0m   'prev_actions': <tf.Tensor 'default_policy/action:0' shape=(?, 4) dtype=float32>,\n",
      "\u001b[2m\u001b[36m(pid=32397)\u001b[0m   'prev_rewards': <tf.Tensor 'default_policy/prev_reward:0' shape=(?,) dtype=float32>,\n",
      "\u001b[2m\u001b[36m(pid=32397)\u001b[0m   'rewards': <tf.Tensor 'default_policy/rewards:0' shape=(?,) dtype=float32>,\n",
      "\u001b[2m\u001b[36m(pid=32397)\u001b[0m   'value_targets': <tf.Tensor 'default_policy/value_targets:0' shape=(?,) dtype=float32>,\n",
      "\u001b[2m\u001b[36m(pid=32397)\u001b[0m   'vf_preds': <tf.Tensor 'default_policy/vf_preds:0' shape=(?,) dtype=float32>}\n",
      "\u001b[2m\u001b[36m(pid=32397)\u001b[0m \n",
      "\u001b[2m\u001b[36m(pid=32410)\u001b[0m WARNING:tensorflow:From /home/zhpeng/anaconda3/envs/uber/lib/python3.6/site-packages/ray/rllib/models/tf/tf_action_dist.py:138: to_float (from tensorflow.python.ops.math_ops) is deprecated and will be removed in a future version.\n",
      "\u001b[2m\u001b[36m(pid=32410)\u001b[0m Instructions for updating:\n",
      "\u001b[2m\u001b[36m(pid=32410)\u001b[0m Use `tf.cast` instead.\n",
      "\u001b[2m\u001b[36m(pid=32397)\u001b[0m WARNING:tensorflow:From /home/zhpeng/anaconda3/envs/uber/lib/python3.6/site-packages/tensorflow/python/ops/array_ops.py:1354: add_dispatch_support.<locals>.wrapper (from tensorflow.python.ops.array_ops) is deprecated and will be removed in a future version.\n",
      "\u001b[2m\u001b[36m(pid=32397)\u001b[0m Instructions for updating:\n",
      "\u001b[2m\u001b[36m(pid=32397)\u001b[0m Use tf.where in 2.0, which has the same broadcast rule as np.where\n",
      "\u001b[2m\u001b[36m(pid=32410)\u001b[0m 2019-09-05 18:43:43.020171: W tensorflow/compiler/jit/mark_for_compilation_pass.cc:1412] (One-time warning): Not using XLA:CPU for cluster because envvar TF_XLA_FLAGS=--tf_xla_cpu_global_jit was not set.  If you want XLA:CPU, either set that envvar, or use experimental_jit_scope to enable XLA:CPU.  To confirm that XLA is active, pass --vmodule=xla_compilation_cache=1 (as a proper command-line flag, not via TF_XLA_FLAGS) or set the envvar XLA_FLAGS=--xla_hlo_profile.\n",
      "\u001b[2m\u001b[36m(pid=32410)\u001b[0m WARNING:tensorflow:From /home/zhpeng/anaconda3/envs/uber/lib/python3.6/site-packages/tensorflow/python/ops/array_ops.py:1354: add_dispatch_support.<locals>.wrapper (from tensorflow.python.ops.array_ops) is deprecated and will be removed in a future version.\n",
      "\u001b[2m\u001b[36m(pid=32410)\u001b[0m Instructions for updating:\n",
      "\u001b[2m\u001b[36m(pid=32410)\u001b[0m Use tf.where in 2.0, which has the same broadcast rule as np.where\n",
      "[] []\n",
      "0\n",
      "0\n",
      "16286\n",
      "12436\n"
     ]
    }
   ],
   "source": [
    "raw_a = _get_ppo_agent(\"BipedalWalker-v2\")\n",
    "ckpt = \"/home/zhpeng/ray_results/0811-0to50and100to300/PPO_BipedalWalker-v2_188_seed=288_2019-08-12_11-50-56guywuhds/checkpoint_782/checkpoint-782\"\n",
    "raw_a.restore(ckpt)\n",
    "check_agent(raw_a)"
   ]
  },
  {
   "cell_type": "code",
   "execution_count": 7,
   "metadata": {
    "scrolled": true
   },
   "outputs": [
    {
     "name": "stdout",
     "output_type": "stream",
     "text": [
      "\u001b[2m\u001b[36m(pid=32405)\u001b[0m /home/zhpeng/anaconda3/envs/uber/lib/python3.6/site-packages/tensorflow/python/framework/dtypes.py:516: FutureWarning: Passing (type, 1) or '1type' as a synonym of type is deprecated; in a future version of numpy, it will be understood as (type, (1,)) / '(1,)type'.\n",
      "\u001b[2m\u001b[36m(pid=32405)\u001b[0m   _np_qint8 = np.dtype([(\"qint8\", np.int8, 1)])\n",
      "\u001b[2m\u001b[36m(pid=32405)\u001b[0m /home/zhpeng/anaconda3/envs/uber/lib/python3.6/site-packages/tensorflow/python/framework/dtypes.py:517: FutureWarning: Passing (type, 1) or '1type' as a synonym of type is deprecated; in a future version of numpy, it will be understood as (type, (1,)) / '(1,)type'.\n",
      "\u001b[2m\u001b[36m(pid=32405)\u001b[0m   _np_quint8 = np.dtype([(\"quint8\", np.uint8, 1)])\n",
      "\u001b[2m\u001b[36m(pid=32405)\u001b[0m /home/zhpeng/anaconda3/envs/uber/lib/python3.6/site-packages/tensorflow/python/framework/dtypes.py:518: FutureWarning: Passing (type, 1) or '1type' as a synonym of type is deprecated; in a future version of numpy, it will be understood as (type, (1,)) / '(1,)type'.\n",
      "\u001b[2m\u001b[36m(pid=32405)\u001b[0m   _np_qint16 = np.dtype([(\"qint16\", np.int16, 1)])\n",
      "\u001b[2m\u001b[36m(pid=32405)\u001b[0m /home/zhpeng/anaconda3/envs/uber/lib/python3.6/site-packages/tensorflow/python/framework/dtypes.py:519: FutureWarning: Passing (type, 1) or '1type' as a synonym of type is deprecated; in a future version of numpy, it will be understood as (type, (1,)) / '(1,)type'.\n",
      "\u001b[2m\u001b[36m(pid=32405)\u001b[0m   _np_quint16 = np.dtype([(\"quint16\", np.uint16, 1)])\n",
      "\u001b[2m\u001b[36m(pid=32405)\u001b[0m /home/zhpeng/anaconda3/envs/uber/lib/python3.6/site-packages/tensorflow/python/framework/dtypes.py:520: FutureWarning: Passing (type, 1) or '1type' as a synonym of type is deprecated; in a future version of numpy, it will be understood as (type, (1,)) / '(1,)type'.\n",
      "\u001b[2m\u001b[36m(pid=32405)\u001b[0m   _np_qint32 = np.dtype([(\"qint32\", np.int32, 1)])\n",
      "\u001b[2m\u001b[36m(pid=32405)\u001b[0m /home/zhpeng/anaconda3/envs/uber/lib/python3.6/site-packages/tensorflow/python/framework/dtypes.py:525: FutureWarning: Passing (type, 1) or '1type' as a synonym of type is deprecated; in a future version of numpy, it will be understood as (type, (1,)) / '(1,)type'.\n",
      "\u001b[2m\u001b[36m(pid=32405)\u001b[0m   np_resource = np.dtype([(\"resource\", np.ubyte, 1)])\n",
      "\u001b[2m\u001b[36m(pid=32405)\u001b[0m /home/zhpeng/anaconda3/envs/uber/lib/python3.6/site-packages/tensorboard/compat/tensorflow_stub/dtypes.py:541: FutureWarning: Passing (type, 1) or '1type' as a synonym of type is deprecated; in a future version of numpy, it will be understood as (type, (1,)) / '(1,)type'.\n",
      "\u001b[2m\u001b[36m(pid=32405)\u001b[0m   _np_qint8 = np.dtype([(\"qint8\", np.int8, 1)])\n",
      "\u001b[2m\u001b[36m(pid=32405)\u001b[0m /home/zhpeng/anaconda3/envs/uber/lib/python3.6/site-packages/tensorboard/compat/tensorflow_stub/dtypes.py:542: FutureWarning: Passing (type, 1) or '1type' as a synonym of type is deprecated; in a future version of numpy, it will be understood as (type, (1,)) / '(1,)type'.\n",
      "\u001b[2m\u001b[36m(pid=32405)\u001b[0m   _np_quint8 = np.dtype([(\"quint8\", np.uint8, 1)])\n",
      "\u001b[2m\u001b[36m(pid=32405)\u001b[0m /home/zhpeng/anaconda3/envs/uber/lib/python3.6/site-packages/tensorboard/compat/tensorflow_stub/dtypes.py:543: FutureWarning: Passing (type, 1) or '1type' as a synonym of type is deprecated; in a future version of numpy, it will be understood as (type, (1,)) / '(1,)type'.\n",
      "\u001b[2m\u001b[36m(pid=32405)\u001b[0m   _np_qint16 = np.dtype([(\"qint16\", np.int16, 1)])\n",
      "\u001b[2m\u001b[36m(pid=32405)\u001b[0m /home/zhpeng/anaconda3/envs/uber/lib/python3.6/site-packages/tensorboard/compat/tensorflow_stub/dtypes.py:544: FutureWarning: Passing (type, 1) or '1type' as a synonym of type is deprecated; in a future version of numpy, it will be understood as (type, (1,)) / '(1,)type'.\n",
      "\u001b[2m\u001b[36m(pid=32405)\u001b[0m   _np_quint16 = np.dtype([(\"quint16\", np.uint16, 1)])\n",
      "\u001b[2m\u001b[36m(pid=32405)\u001b[0m /home/zhpeng/anaconda3/envs/uber/lib/python3.6/site-packages/tensorboard/compat/tensorflow_stub/dtypes.py:545: FutureWarning: Passing (type, 1) or '1type' as a synonym of type is deprecated; in a future version of numpy, it will be understood as (type, (1,)) / '(1,)type'.\n",
      "\u001b[2m\u001b[36m(pid=32405)\u001b[0m   _np_qint32 = np.dtype([(\"qint32\", np.int32, 1)])\n",
      "\u001b[2m\u001b[36m(pid=32405)\u001b[0m /home/zhpeng/anaconda3/envs/uber/lib/python3.6/site-packages/tensorboard/compat/tensorflow_stub/dtypes.py:550: FutureWarning: Passing (type, 1) or '1type' as a synonym of type is deprecated; in a future version of numpy, it will be understood as (type, (1,)) / '(1,)type'.\n",
      "\u001b[2m\u001b[36m(pid=32405)\u001b[0m   np_resource = np.dtype([(\"resource\", np.ubyte, 1)])\n",
      "\u001b[2m\u001b[36m(pid=32405)\u001b[0m WARNING:tensorflow:From /home/zhpeng/anaconda3/envs/uber/lib/python3.6/site-packages/tensorflow/python/compat/v2_compat.py:61: disable_resource_variables (from tensorflow.python.ops.variable_scope) is deprecated and will be removed in a future version.\n",
      "\u001b[2m\u001b[36m(pid=32405)\u001b[0m Instructions for updating:\n",
      "\u001b[2m\u001b[36m(pid=32405)\u001b[0m non-resource variables are not supported in the long term\n",
      "\u001b[2m\u001b[36m(pid=32405)\u001b[0m 2019-09-05 18:43:54.175341: I tensorflow/core/platform/cpu_feature_guard.cc:142] Your CPU supports instructions that this TensorFlow binary was not compiled to use: AVX2 FMA\n",
      "\u001b[2m\u001b[36m(pid=32405)\u001b[0m 2019-09-05 18:43:54.185021: I tensorflow/stream_executor/platform/default/dso_loader.cc:42] Successfully opened dynamic library libcuda.so.1\n",
      "\u001b[2m\u001b[36m(pid=32405)\u001b[0m 2019-09-05 18:43:54.284485: I tensorflow/compiler/xla/service/service.cc:168] XLA service 0x56242ab14740 executing computations on platform CUDA. Devices:\n",
      "\u001b[2m\u001b[36m(pid=32405)\u001b[0m 2019-09-05 18:43:54.284533: I tensorflow/compiler/xla/service/service.cc:175]   StreamExecutor device (0): GeForce GTX TITAN X, Compute Capability 5.2\n",
      "\u001b[2m\u001b[36m(pid=32405)\u001b[0m 2019-09-05 18:43:54.305000: I tensorflow/core/platform/profile_utils/cpu_utils.cc:94] CPU Frequency: 2599845000 Hz\n",
      "\u001b[2m\u001b[36m(pid=32405)\u001b[0m 2019-09-05 18:43:54.307551: I tensorflow/compiler/xla/service/service.cc:168] XLA service 0x56242ac4a9e0 executing computations on platform Host. Devices:\n",
      "\u001b[2m\u001b[36m(pid=32405)\u001b[0m 2019-09-05 18:43:54.307582: I tensorflow/compiler/xla/service/service.cc:175]   StreamExecutor device (0): <undefined>, <undefined>\n",
      "\u001b[2m\u001b[36m(pid=32405)\u001b[0m 2019-09-05 18:43:54.309491: I tensorflow/core/common_runtime/gpu/gpu_device.cc:1640] Found device 0 with properties: \n",
      "\u001b[2m\u001b[36m(pid=32405)\u001b[0m name: GeForce GTX TITAN X major: 5 minor: 2 memoryClockRate(GHz): 1.076\n",
      "\u001b[2m\u001b[36m(pid=32405)\u001b[0m pciBusID: 0000:09:00.0\n",
      "\u001b[2m\u001b[36m(pid=32405)\u001b[0m 2019-09-05 18:43:54.309953: I tensorflow/stream_executor/platform/default/dso_loader.cc:42] Successfully opened dynamic library libcudart.so.10.0\n",
      "\u001b[2m\u001b[36m(pid=32405)\u001b[0m 2019-09-05 18:43:54.311781: I tensorflow/stream_executor/platform/default/dso_loader.cc:42] Successfully opened dynamic library libcublas.so.10.0\n",
      "\u001b[2m\u001b[36m(pid=32405)\u001b[0m 2019-09-05 18:43:54.313581: I tensorflow/stream_executor/platform/default/dso_loader.cc:42] Successfully opened dynamic library libcufft.so.10.0\n",
      "\u001b[2m\u001b[36m(pid=32405)\u001b[0m 2019-09-05 18:43:54.314104: I tensorflow/stream_executor/platform/default/dso_loader.cc:42] Successfully opened dynamic library libcurand.so.10.0\n",
      "\u001b[2m\u001b[36m(pid=32405)\u001b[0m 2019-09-05 18:43:54.316745: I tensorflow/stream_executor/platform/default/dso_loader.cc:42] Successfully opened dynamic library libcusolver.so.10.0\n",
      "\u001b[2m\u001b[36m(pid=32405)\u001b[0m 2019-09-05 18:43:54.318796: I tensorflow/stream_executor/platform/default/dso_loader.cc:42] Successfully opened dynamic library libcusparse.so.10.0\n",
      "\u001b[2m\u001b[36m(pid=32405)\u001b[0m 2019-09-05 18:43:54.324225: I tensorflow/stream_executor/platform/default/dso_loader.cc:42] Successfully opened dynamic library libcudnn.so.7\n",
      "\u001b[2m\u001b[36m(pid=32405)\u001b[0m 2019-09-05 18:43:54.327427: I tensorflow/core/common_runtime/gpu/gpu_device.cc:1763] Adding visible gpu devices: 0\n",
      "\u001b[2m\u001b[36m(pid=32405)\u001b[0m 2019-09-05 18:43:54.327533: I tensorflow/stream_executor/platform/default/dso_loader.cc:42] Successfully opened dynamic library libcudart.so.10.0\n",
      "\u001b[2m\u001b[36m(pid=32405)\u001b[0m 2019-09-05 18:43:54.330221: I tensorflow/core/common_runtime/gpu/gpu_device.cc:1181] Device interconnect StreamExecutor with strength 1 edge matrix:\n",
      "\u001b[2m\u001b[36m(pid=32405)\u001b[0m 2019-09-05 18:43:54.330258: I tensorflow/core/common_runtime/gpu/gpu_device.cc:1187]      0 \n",
      "\u001b[2m\u001b[36m(pid=32405)\u001b[0m 2019-09-05 18:43:54.330271: I tensorflow/core/common_runtime/gpu/gpu_device.cc:1200] 0:   N \n",
      "\u001b[2m\u001b[36m(pid=32405)\u001b[0m 2019-09-05 18:43:54.334240: I tensorflow/core/common_runtime/gpu/gpu_device.cc:1326] Created TensorFlow device (/job:localhost/replica:0/task:0/device:GPU:0 with 9633 MB memory) -> physical GPU (device: 0, name: GeForce GTX TITAN X, pci bus id: 0000:09:00.0, compute capability: 5.2)\n"
     ]
    },
    {
     "name": "stdout",
     "output_type": "stream",
     "text": [
      "\u001b[2m\u001b[36m(pid=32405)\u001b[0m WARNING:tensorflow:From /home/zhpeng/anaconda3/envs/uber/lib/python3.6/site-packages/ray/rllib/models/tf/tf_action_dist.py:138: to_float (from tensorflow.python.ops.math_ops) is deprecated and will be removed in a future version.\n",
      "\u001b[2m\u001b[36m(pid=32405)\u001b[0m Instructions for updating:\n",
      "\u001b[2m\u001b[36m(pid=32405)\u001b[0m Use `tf.cast` instead.\n",
      "\u001b[2m\u001b[36m(pid=32405)\u001b[0m 2019-09-05 18:43:55.523127: I tensorflow/stream_executor/platform/default/dso_loader.cc:42] Successfully opened dynamic library libcublas.so.10.0\n",
      "\u001b[2m\u001b[36m(pid=32405)\u001b[0m WARNING:tensorflow:From /home/zhpeng/anaconda3/envs/uber/lib/python3.6/site-packages/tensorflow/python/ops/array_ops.py:1354: add_dispatch_support.<locals>.wrapper (from tensorflow.python.ops.array_ops) is deprecated and will be removed in a future version.\n",
      "\u001b[2m\u001b[36m(pid=32405)\u001b[0m Instructions for updating:\n",
      "\u001b[2m\u001b[36m(pid=32405)\u001b[0m Use tf.where in 2.0, which has the same broadcast rule as np.where\n",
      "[] []\n",
      "0\n",
      "0\n",
      "16422\n",
      "12406\n"
     ]
    }
   ],
   "source": [
    "my_a = restore_agent(\"PPO\", ckpt, \"BipedalWalker-v2\")\n",
    "check_agent(my_a)"
   ]
  },
  {
   "cell_type": "code",
   "execution_count": 8,
   "metadata": {},
   "outputs": [
    {
     "name": "stdout",
     "output_type": "stream",
     "text": [
      "\u001b[2m\u001b[36m(pid=32393)\u001b[0m /home/zhpeng/anaconda3/envs/uber/lib/python3.6/site-packages/tensorflow/python/framework/dtypes.py:516: FutureWarning: Passing (type, 1) or '1type' as a synonym of type is deprecated; in a future version of numpy, it will be understood as (type, (1,)) / '(1,)type'.\n",
      "\u001b[2m\u001b[36m(pid=32393)\u001b[0m   _np_qint8 = np.dtype([(\"qint8\", np.int8, 1)])\n",
      "\u001b[2m\u001b[36m(pid=32393)\u001b[0m /home/zhpeng/anaconda3/envs/uber/lib/python3.6/site-packages/tensorflow/python/framework/dtypes.py:517: FutureWarning: Passing (type, 1) or '1type' as a synonym of type is deprecated; in a future version of numpy, it will be understood as (type, (1,)) / '(1,)type'.\n",
      "\u001b[2m\u001b[36m(pid=32393)\u001b[0m   _np_quint8 = np.dtype([(\"quint8\", np.uint8, 1)])\n",
      "\u001b[2m\u001b[36m(pid=32393)\u001b[0m /home/zhpeng/anaconda3/envs/uber/lib/python3.6/site-packages/tensorflow/python/framework/dtypes.py:518: FutureWarning: Passing (type, 1) or '1type' as a synonym of type is deprecated; in a future version of numpy, it will be understood as (type, (1,)) / '(1,)type'.\n",
      "\u001b[2m\u001b[36m(pid=32393)\u001b[0m   _np_qint16 = np.dtype([(\"qint16\", np.int16, 1)])\n",
      "\u001b[2m\u001b[36m(pid=32393)\u001b[0m /home/zhpeng/anaconda3/envs/uber/lib/python3.6/site-packages/tensorflow/python/framework/dtypes.py:519: FutureWarning: Passing (type, 1) or '1type' as a synonym of type is deprecated; in a future version of numpy, it will be understood as (type, (1,)) / '(1,)type'.\n",
      "\u001b[2m\u001b[36m(pid=32393)\u001b[0m   _np_quint16 = np.dtype([(\"quint16\", np.uint16, 1)])\n",
      "\u001b[2m\u001b[36m(pid=32393)\u001b[0m /home/zhpeng/anaconda3/envs/uber/lib/python3.6/site-packages/tensorflow/python/framework/dtypes.py:520: FutureWarning: Passing (type, 1) or '1type' as a synonym of type is deprecated; in a future version of numpy, it will be understood as (type, (1,)) / '(1,)type'.\n",
      "\u001b[2m\u001b[36m(pid=32393)\u001b[0m   _np_qint32 = np.dtype([(\"qint32\", np.int32, 1)])\n",
      "\u001b[2m\u001b[36m(pid=32393)\u001b[0m /home/zhpeng/anaconda3/envs/uber/lib/python3.6/site-packages/tensorflow/python/framework/dtypes.py:525: FutureWarning: Passing (type, 1) or '1type' as a synonym of type is deprecated; in a future version of numpy, it will be understood as (type, (1,)) / '(1,)type'.\n",
      "\u001b[2m\u001b[36m(pid=32393)\u001b[0m   np_resource = np.dtype([(\"resource\", np.ubyte, 1)])\n",
      "\u001b[2m\u001b[36m(pid=32393)\u001b[0m /home/zhpeng/anaconda3/envs/uber/lib/python3.6/site-packages/tensorboard/compat/tensorflow_stub/dtypes.py:541: FutureWarning: Passing (type, 1) or '1type' as a synonym of type is deprecated; in a future version of numpy, it will be understood as (type, (1,)) / '(1,)type'.\n",
      "\u001b[2m\u001b[36m(pid=32393)\u001b[0m   _np_qint8 = np.dtype([(\"qint8\", np.int8, 1)])\n",
      "\u001b[2m\u001b[36m(pid=32393)\u001b[0m /home/zhpeng/anaconda3/envs/uber/lib/python3.6/site-packages/tensorboard/compat/tensorflow_stub/dtypes.py:542: FutureWarning: Passing (type, 1) or '1type' as a synonym of type is deprecated; in a future version of numpy, it will be understood as (type, (1,)) / '(1,)type'.\n",
      "\u001b[2m\u001b[36m(pid=32393)\u001b[0m   _np_quint8 = np.dtype([(\"quint8\", np.uint8, 1)])\n",
      "\u001b[2m\u001b[36m(pid=32393)\u001b[0m /home/zhpeng/anaconda3/envs/uber/lib/python3.6/site-packages/tensorboard/compat/tensorflow_stub/dtypes.py:543: FutureWarning: Passing (type, 1) or '1type' as a synonym of type is deprecated; in a future version of numpy, it will be understood as (type, (1,)) / '(1,)type'.\n",
      "\u001b[2m\u001b[36m(pid=32393)\u001b[0m   _np_qint16 = np.dtype([(\"qint16\", np.int16, 1)])\n",
      "\u001b[2m\u001b[36m(pid=32393)\u001b[0m /home/zhpeng/anaconda3/envs/uber/lib/python3.6/site-packages/tensorboard/compat/tensorflow_stub/dtypes.py:544: FutureWarning: Passing (type, 1) or '1type' as a synonym of type is deprecated; in a future version of numpy, it will be understood as (type, (1,)) / '(1,)type'.\n",
      "\u001b[2m\u001b[36m(pid=32393)\u001b[0m   _np_quint16 = np.dtype([(\"quint16\", np.uint16, 1)])\n",
      "\u001b[2m\u001b[36m(pid=32393)\u001b[0m /home/zhpeng/anaconda3/envs/uber/lib/python3.6/site-packages/tensorboard/compat/tensorflow_stub/dtypes.py:545: FutureWarning: Passing (type, 1) or '1type' as a synonym of type is deprecated; in a future version of numpy, it will be understood as (type, (1,)) / '(1,)type'.\n",
      "\u001b[2m\u001b[36m(pid=32393)\u001b[0m   _np_qint32 = np.dtype([(\"qint32\", np.int32, 1)])\n",
      "\u001b[2m\u001b[36m(pid=32393)\u001b[0m /home/zhpeng/anaconda3/envs/uber/lib/python3.6/site-packages/tensorboard/compat/tensorflow_stub/dtypes.py:550: FutureWarning: Passing (type, 1) or '1type' as a synonym of type is deprecated; in a future version of numpy, it will be understood as (type, (1,)) / '(1,)type'.\n",
      "\u001b[2m\u001b[36m(pid=32393)\u001b[0m   np_resource = np.dtype([(\"resource\", np.ubyte, 1)])\n",
      "\u001b[2m\u001b[36m(pid=32393)\u001b[0m WARNING:tensorflow:From /home/zhpeng/anaconda3/envs/uber/lib/python3.6/site-packages/tensorflow/python/compat/v2_compat.py:61: disable_resource_variables (from tensorflow.python.ops.variable_scope) is deprecated and will be removed in a future version.\n",
      "\u001b[2m\u001b[36m(pid=32393)\u001b[0m Instructions for updating:\n",
      "\u001b[2m\u001b[36m(pid=32393)\u001b[0m non-resource variables are not supported in the long term\n",
      "[] []\n",
      "0\n",
      "0\n",
      "16422\n",
      "12406\n",
      "\u001b[2m\u001b[36m(pid=32393)\u001b[0m 2019-09-05 18:44:05.608045: I tensorflow/core/platform/cpu_feature_guard.cc:142] Your CPU supports instructions that this TensorFlow binary was not compiled to use: AVX2 FMA\n",
      "\u001b[2m\u001b[36m(pid=32393)\u001b[0m 2019-09-05 18:44:05.633615: I tensorflow/stream_executor/platform/default/dso_loader.cc:42] Successfully opened dynamic library libcuda.so.1\n",
      "\u001b[2m\u001b[36m(pid=32393)\u001b[0m 2019-09-05 18:44:05.738253: I tensorflow/compiler/xla/service/service.cc:168] XLA service 0x555d97ca0a10 executing computations on platform CUDA. Devices:\n",
      "\u001b[2m\u001b[36m(pid=32393)\u001b[0m 2019-09-05 18:44:05.738300: I tensorflow/compiler/xla/service/service.cc:175]   StreamExecutor device (0): GeForce GTX TITAN X, Compute Capability 5.2\n",
      "\u001b[2m\u001b[36m(pid=32393)\u001b[0m 2019-09-05 18:44:05.761098: I tensorflow/core/platform/profile_utils/cpu_utils.cc:94] CPU Frequency: 2599845000 Hz\n",
      "\u001b[2m\u001b[36m(pid=32393)\u001b[0m 2019-09-05 18:44:05.764522: I tensorflow/compiler/xla/service/service.cc:168] XLA service 0x555d97dd6c80 executing computations on platform Host. Devices:\n",
      "\u001b[2m\u001b[36m(pid=32393)\u001b[0m 2019-09-05 18:44:05.764557: I tensorflow/compiler/xla/service/service.cc:175]   StreamExecutor device (0): <undefined>, <undefined>\n",
      "\u001b[2m\u001b[36m(pid=32393)\u001b[0m 2019-09-05 18:44:05.766172: I tensorflow/core/common_runtime/gpu/gpu_device.cc:1640] Found device 0 with properties: \n",
      "\u001b[2m\u001b[36m(pid=32393)\u001b[0m name: GeForce GTX TITAN X major: 5 minor: 2 memoryClockRate(GHz): 1.076\n",
      "\u001b[2m\u001b[36m(pid=32393)\u001b[0m pciBusID: 0000:09:00.0\n",
      "\u001b[2m\u001b[36m(pid=32393)\u001b[0m 2019-09-05 18:44:05.768226: I tensorflow/stream_executor/platform/default/dso_loader.cc:42] Successfully opened dynamic library libcudart.so.10.0\n",
      "\u001b[2m\u001b[36m(pid=32393)\u001b[0m 2019-09-05 18:44:05.771561: I tensorflow/stream_executor/platform/default/dso_loader.cc:42] Successfully opened dynamic library libcublas.so.10.0\n",
      "\u001b[2m\u001b[36m(pid=32393)\u001b[0m 2019-09-05 18:44:05.773519: I tensorflow/stream_executor/platform/default/dso_loader.cc:42] Successfully opened dynamic library libcufft.so.10.0\n",
      "\u001b[2m\u001b[36m(pid=32393)\u001b[0m 2019-09-05 18:44:05.775224: I tensorflow/stream_executor/platform/default/dso_loader.cc:42] Successfully opened dynamic library libcurand.so.10.0\n",
      "\u001b[2m\u001b[36m(pid=32393)\u001b[0m 2019-09-05 18:44:05.778721: I tensorflow/stream_executor/platform/default/dso_loader.cc:42] Successfully opened dynamic library libcusolver.so.10.0\n",
      "\u001b[2m\u001b[36m(pid=32393)\u001b[0m 2019-09-05 18:44:05.781181: I tensorflow/stream_executor/platform/default/dso_loader.cc:42] Successfully opened dynamic library libcusparse.so.10.0\n",
      "\u001b[2m\u001b[36m(pid=32393)\u001b[0m 2019-09-05 18:44:05.788333: I tensorflow/stream_executor/platform/default/dso_loader.cc:42] Successfully opened dynamic library libcudnn.so.7\n",
      "\u001b[2m\u001b[36m(pid=32393)\u001b[0m 2019-09-05 18:44:05.791309: I tensorflow/core/common_runtime/gpu/gpu_device.cc:1763] Adding visible gpu devices: 0\n",
      "\u001b[2m\u001b[36m(pid=32393)\u001b[0m 2019-09-05 18:44:05.791484: I tensorflow/stream_executor/platform/default/dso_loader.cc:42] Successfully opened dynamic library libcudart.so.10.0\n",
      "\u001b[2m\u001b[36m(pid=32393)\u001b[0m 2019-09-05 18:44:05.793898: I tensorflow/core/common_runtime/gpu/gpu_device.cc:1181] Device interconnect StreamExecutor with strength 1 edge matrix:\n",
      "\u001b[2m\u001b[36m(pid=32393)\u001b[0m 2019-09-05 18:44:05.793928: I tensorflow/core/common_runtime/gpu/gpu_device.cc:1187]      0 \n",
      "\u001b[2m\u001b[36m(pid=32393)\u001b[0m 2019-09-05 18:44:05.793943: I tensorflow/core/common_runtime/gpu/gpu_device.cc:1200] 0:   N \n",
      "\u001b[2m\u001b[36m(pid=32393)\u001b[0m 2019-09-05 18:44:05.797334: I tensorflow/core/common_runtime/gpu/gpu_device.cc:1326] Created TensorFlow device (/job:localhost/replica:0/task:0/device:GPU:0 with 9422 MB memory) -> physical GPU (device: 0, name: GeForce GTX TITAN X, pci bus id: 0000:09:00.0, compute capability: 5.2)\n"
     ]
    },
    {
     "name": "stdout",
     "output_type": "stream",
     "text": [
      "\u001b[2m\u001b[36m(pid=32393)\u001b[0m WARNING:tensorflow:From /home/zhpeng/anaconda3/envs/uber/lib/python3.6/site-packages/ray/rllib/models/tf/tf_action_dist.py:138: to_float (from tensorflow.python.ops.math_ops) is deprecated and will be removed in a future version.\n",
      "\u001b[2m\u001b[36m(pid=32393)\u001b[0m Instructions for updating:\n",
      "\u001b[2m\u001b[36m(pid=32393)\u001b[0m Use `tf.cast` instead.\n",
      "\u001b[2m\u001b[36m(pid=32393)\u001b[0m 2019-09-05 18:44:06.824879: I tensorflow/stream_executor/platform/default/dso_loader.cc:42] Successfully opened dynamic library libcublas.so.10.0\n",
      "\u001b[2m\u001b[36m(pid=32393)\u001b[0m WARNING:tensorflow:From /home/zhpeng/anaconda3/envs/uber/lib/python3.6/site-packages/tensorflow/python/ops/array_ops.py:1354: add_dispatch_support.<locals>.wrapper (from tensorflow.python.ops.array_ops) is deprecated and will be removed in a future version.\n",
      "\u001b[2m\u001b[36m(pid=32393)\u001b[0m Instructions for updating:\n",
      "\u001b[2m\u001b[36m(pid=32393)\u001b[0m Use tf.where in 2.0, which has the same broadcast rule as np.where\n"
     ]
    }
   ],
   "source": [
    "my_a_wa = restore_agent_with_activation(\"PPO\", ckpt, \"BipedalWalker-v2\")\n",
    "check_agent(my_a_wa)"
   ]
  },
  {
   "cell_type": "code",
   "execution_count": 9,
   "metadata": {},
   "outputs": [
    {
     "ename": "NameError",
     "evalue": "name 'yaml_path' is not defined",
     "output_type": "error",
     "traceback": [
      "\u001b[0;31m---------------------------------------------------------------------------\u001b[0m",
      "\u001b[0;31mNameError\u001b[0m                                 Traceback (most recent call last)",
      "\u001b[0;32m<ipython-input-9-92a908e14cab>\u001b[0m in \u001b[0;36m<module>\u001b[0;34m\u001b[0m\n\u001b[1;32m      1\u001b[0m data_dict = several_agent_rollout(\n\u001b[0;32m----> 2\u001b[0;31m     \u001b[0myaml_path\u001b[0m\u001b[0;34m,\u001b[0m \u001b[0mnum_rollouts\u001b[0m\u001b[0;34m,\u001b[0m \u001b[0mreturn_data\u001b[0m\u001b[0;34m=\u001b[0m\u001b[0;32mTrue\u001b[0m\u001b[0;34m,\u001b[0m\u001b[0;34m\u001b[0m\u001b[0;34m\u001b[0m\u001b[0m\n\u001b[0m\u001b[1;32m      3\u001b[0m     \u001b[0m_num_agents\u001b[0m\u001b[0;34m=\u001b[0m\u001b[0mnum_agents\u001b[0m\u001b[0;34m\u001b[0m\u001b[0;34m\u001b[0m\u001b[0m\n\u001b[1;32m      4\u001b[0m )\n",
      "\u001b[0;31mNameError\u001b[0m: name 'yaml_path' is not defined"
     ]
    }
   ],
   "source": [
    "data_dict = several_agent_rollout(\n",
    "    yaml_path, num_rollouts, return_data=True,\n",
    "    _num_agents=num_agents\n",
    ")"
   ]
  }
 ],
 "metadata": {
  "kernelspec": {
   "display_name": "Python 3",
   "language": "python",
   "name": "python3"
  },
  "language_info": {
   "codemirror_mode": {
    "name": "ipython",
    "version": 3
   },
   "file_extension": ".py",
   "mimetype": "text/x-python",
   "name": "python",
   "nbconvert_exporter": "python",
   "pygments_lexer": "ipython3",
   "version": "3.6.9"
  }
 },
 "nbformat": 4,
 "nbformat_minor": 2
}
