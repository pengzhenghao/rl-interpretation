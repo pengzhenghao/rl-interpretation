{
 "cells": [
  {
   "cell_type": "code",
   "execution_count": 1,
   "metadata": {},
   "outputs": [],
   "source": [
    "num_rollouts = 100\n",
    "num_workers = 15\n",
    "yaml_path = \"data/ablation_study_180_agents_0831/ablation_study_180_agents_0831.yaml\""
   ]
  },
  {
   "cell_type": "code",
   "execution_count": 2,
   "metadata": {},
   "outputs": [
    {
     "name": "stderr",
     "output_type": "stream",
     "text": [
      "WARNING: Logging before flag parsing goes to stderr.\n",
      "W0831 20:39:28.446441 139621305218816 deprecation.py:323] From /home/zhpeng/anaconda3/envs/uber/lib/python3.6/site-packages/tensorflow/python/compat/v2_compat.py:61: disable_resource_variables (from tensorflow.python.ops.variable_scope) is deprecated and will be removed in a future version.\n",
      "Instructions for updating:\n",
      "non-resource variables are not supported in the long term\n"
     ]
    }
   ],
   "source": [
    "from process_fft import get_fft_cluster_finder\n",
    "from process_cluster import load_cluster_df\n",
    "from reduce_dimension import *\n",
    "import matplotlib.pyplot as plt\n",
    "import seaborn as sns\n",
    "from record_video import generate_video_of_cluster"
   ]
  },
  {
   "cell_type": "code",
   "execution_count": null,
   "metadata": {
    "scrolled": true
   },
   "outputs": [
    {
     "name": "stdout",
     "output_type": "stream",
     "text": [
      "Successfully loaded name_ckpt_mapping!\n",
      "Sucessfully initialize Ray!\n",
      "[1/180] (+0.0s/0.0s) Start collecting data from agent <PPO seed=187 rew=282.21>\n",
      "[2/180] (+0.0s/0.0s) Start collecting data from agent <PPO seed=98 rew=282.24>\n",
      "[3/180] (+0.0s/0.0s) Start collecting data from agent <PPO seed=203 rew=282.25>\n",
      "[4/180] (+0.0s/0.0s) Start collecting data from agent <PPO seed=197 rew=282.48>\n",
      "[5/180] (+0.0s/0.0s) Start collecting data from agent <PPO seed=71 rew=282.55>\n",
      "[6/180] (+0.0s/0.0s) Start collecting data from agent <PPO seed=283 rew=282.79>\n",
      "[7/180] (+0.0s/0.0s) Start collecting data from agent <PPO seed=116 rew=283.13>\n",
      "[8/180] (+0.0s/0.0s) Start collecting data from agent <PPO seed=70 rew=283.20>\n",
      "[9/180] (+0.0s/0.0s) Start collecting data from agent <PPO seed=201 rew=283.28>\n",
      "[10/180] (+0.0s/0.0s) Start collecting data from agent <PPO seed=113 rew=283.29>\n",
      "[11/180] (+0.0s/0.0s) Start collecting data from agent <PPO seed=7 rew=283.41>\n",
      "[12/180] (+0.0s/0.0s) Start collecting data from agent <PPO seed=128 rew=283.51>\n",
      "[13/180] (+0.0s/0.0s) Start collecting data from agent <PPO seed=125 rew=283.66>\n",
      "[14/180] (+0.0s/0.0s) Start collecting data from agent <PPO seed=159 rew=283.72>\n",
      "[15/180] (+0.0s/0.1s) Start collecting data from agent <PPO seed=112 rew=283.85>\n"
     ]
    }
   ],
   "source": [
    "ret = get_fft_cluster_finder(\n",
    "    yaml_path=yaml_path,\n",
    "    num_rollouts=num_rollouts,\n",
    "    num_workers=num_workers\n",
    ")\n",
    "cluster_finder = ret['cluster_finder']['nostd_cluster_finder']\n",
    "prefix = ret['prefix']"
   ]
  },
  {
   "cell_type": "code",
   "execution_count": null,
   "metadata": {},
   "outputs": [],
   "source": [
    "num_clusters = 10\n",
    "cluster_finder.set(num_clusters)"
   ]
  },
  {
   "cell_type": "code",
   "execution_count": null,
   "metadata": {},
   "outputs": [],
   "source": [
    "prediction = cluster_finder.predict()\n",
    "print(\n",
    "    \"Collected clustering results for {} agents, {} clusters.\".format(\n",
    "        len(prediction), num_clusters\n",
    "    )\n",
    ")"
   ]
  },
  {
   "cell_type": "code",
   "execution_count": null,
   "metadata": {},
   "outputs": [],
   "source": [
    "cluster_df = load_cluster_df(prefix + \".pkl\")"
   ]
  },
  {
   "cell_type": "code",
   "execution_count": null,
   "metadata": {
    "scrolled": false
   },
   "outputs": [],
   "source": [
    "plot_df, _ = reduce_dimension(cluster_df, prediction, False)"
   ]
  },
  {
   "cell_type": "code",
   "execution_count": null,
   "metadata": {},
   "outputs": [],
   "source": [
    "def get_label(name):\n",
    "    if name.startswith(\"ES\"):\n",
    "        return \"ES\"\n",
    "    if \"fc2\" in name:\n",
    "        return \"fc2\"\n",
    "    if \"fc_out\" in name:\n",
    "        return \"fc_out\"\n",
    "    else:\n",
    "        return \"PPO\"\n",
    "    \n",
    "plot_df.insert(4, \"label\", [get_label(name) for name in plot_df.agent], True)"
   ]
  },
  {
   "cell_type": "code",
   "execution_count": null,
   "metadata": {
    "scrolled": false
   },
   "outputs": [],
   "source": [
    "save = prefix + \"_2d.png\"\n",
    "show = None\n",
    "\n",
    "def _get_title(plot_df):\n",
    "    num_clusters = len(plot_df.cluster.unique())\n",
    "    num_agents = len(plot_df.agent.unique())\n",
    "    return \"Clustering Result of {} Clusters, \" \\\n",
    "           \"{} Agents (Dimensions Reduced by PCA-TSNE)\".format(\n",
    "        num_clusters, num_agents)\n",
    "\n",
    "\n",
    "plt.figure(figsize=(12, 10), dpi=300)\n",
    "num_clusters = len(plot_df.cluster.unique())\n",
    "palette = sns.color_palette(n_colors=num_clusters)\n",
    "ax = sns.scatterplot(\n",
    "    x=\"x\",\n",
    "    y=\"y\",\n",
    "    hue=\"cluster\",\n",
    "    style=\"label\",\n",
    "    palette=palette,\n",
    "    data=plot_df,\n",
    "    legend=\"full\"\n",
    ")\n",
    "ax.set_title(_get_title(plot_df))\n",
    "if save is not None:\n",
    "    assert save.endswith('png')\n",
    "    plt.savefig(save, dpi=300)\n",
    "if show:\n",
    "    plt.show()"
   ]
  },
  {
   "cell_type": "code",
   "execution_count": null,
   "metadata": {},
   "outputs": [],
   "source": [
    "\n",
    "# generate grid of videos with shape (k, max_num_cols)\n",
    "generate_video_of_cluster(\n",
    "    prediction=prediction,\n",
    "    num_agents=None,\n",
    "    yaml_path=yaml_path,\n",
    "    video_prefix=prefix,\n",
    "    max_num_cols=18,\n",
    "    num_workers=num_workers\n",
    ")\n",
    "print(\"Finished generating videos.\")\n"
   ]
  }
 ],
 "metadata": {
  "kernelspec": {
   "display_name": "Python 3",
   "language": "python",
   "name": "python3"
  },
  "language_info": {
   "codemirror_mode": {
    "name": "ipython",
    "version": 3
   },
   "file_extension": ".py",
   "mimetype": "text/x-python",
   "name": "python",
   "nbconvert_exporter": "python",
   "pygments_lexer": "ipython3",
   "version": "3.6.9"
  }
 },
 "nbformat": 4,
 "nbformat_minor": 2
}
