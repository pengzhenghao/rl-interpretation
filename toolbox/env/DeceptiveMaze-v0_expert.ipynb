{
 "cells": [
  {
   "cell_type": "code",
   "execution_count": 1,
   "metadata": {
    "pycharm": {
     "is_executing": false
    }
   },
   "outputs": [
    {
     "name": "stdout",
     "output_type": "stream",
     "text": [
      "Filed to import mujoco environment wrapper. This may because you didn't install mujoco_py.\n",
      "Registed three environments: FourWay-v0, FourWayUseWalls-v0, FourWayUseWallsFixed-v0 in Gym.\n",
      "Registed three environments: FourWay-v0, FourWayUseWalls-v0, FourWayUseWallsFixed-v0 in RLLib.\n",
      "Registed three environments: FourWay-v0, FourWayUseWalls-v0, FourWayUseWallsFixed-v0 in RLLib.\n"
     ]
    }
   ],
   "source": [
    "from toolbox.env import *\n",
    "import matplotlib.pyplot as plt\n",
    "import gym\n",
    "\n",
    "%matplotlib inline"
   ]
  },
  {
   "cell_type": "code",
   "execution_count": 2,
   "metadata": {},
   "outputs": [],
   "source": [
    "def evaluate(policy):\n",
    "    env = FourWayGridWorld({\n",
    "        \"use_walls\": True, \n",
    "        \"init_loc\": [8.0, 8.0], \n",
    "        \"left\": 0, \n",
    "        \"right\": 100,\n",
    "        \"record_trajectory\": True, \n",
    "        \"early_done\": True}\n",
    "    )\n",
    "    obs = env.reset()\n",
    "    r = []\n",
    "    while True:\n",
    "        act = policy(obs)\n",
    "        obs, rew, done, info = env.step(act)\n",
    "        r.append(rew)\n",
    "        if done:\n",
    "            break\n",
    "    return sum(r), {'env': env, 'reward': r}"
   ]
  },
  {
   "cell_type": "code",
   "execution_count": 3,
   "metadata": {},
   "outputs": [],
   "source": [
    "import numpy as np\n",
    "\n",
    "def toward(start, end):\n",
    "    start = np.asarray(start)\n",
    "    end = np.asarray(end)\n",
    "    direction = end - start\n",
    "    if max(abs(direction[0]), abs(direction[1])) > 1:\n",
    "        direction = direction / max(abs(direction[0]), abs(direction[1]))\n",
    "    return direction\n",
    "\n",
    "def expert_up(obs):\n",
    "    if obs[0] > 3.9 and obs[1] < 10.0:\n",
    "        return toward(obs, [3.9, 10.0])\n",
    "    else:\n",
    "        return toward(obs, [8.0, 16.0])\n",
    "    \n",
    "def expert_down(obs):\n",
    "    if obs[0] > 3.9 and obs[1] > 6.0:\n",
    "        return toward(obs, [3.9, 6.0])\n",
    "    else:\n",
    "        return toward(obs, [8.0, 0.0])\n",
    "    \n",
    "def expert_left(obs):\n",
    "    return toward(obs, [0.0, 8.0])\n",
    "\n",
    "def expert_right(obs):\n",
    "    x = obs[0]\n",
    "    y = obs[1]\n",
    "    \n",
    "    if x > 3.9 and y <= 9.9 and x < 9:\n",
    "        return toward(obs, [3.9, 9.9])\n",
    "    elif x == 3.9 and y == 9.9:\n",
    "        return toward(obs, [3.9, 10.1])\n",
    "    elif x < 12.5 and y >= 10.0:\n",
    "        return toward(obs, [12.5, 10.0])\n",
    "    else:\n",
    "        return toward(obs, [16.0, 8.0])\n"
   ]
  },
  {
   "cell_type": "code",
   "execution_count": 4,
   "metadata": {},
   "outputs": [
    {
     "name": "stdout",
     "output_type": "stream",
     "text": [
      "Building Walls!!!\n",
      "Episode Reward:  98.29999997466803\n"
     ]
    },
    {
     "data": {
      "image/png": "[encoded data removed]",
      "text/plain": [
       "<Figure size 432x288 with 2 Axes>"
      ]
     },
     "metadata": {
      "needs_background": "light"
     },
     "output_type": "display_data"
    },
    {
     "data": {
      "text/plain": [
       "[-0.1,\n",
       " -0.1,\n",
       " -0.1,\n",
       " -0.1,\n",
       " -0.1,\n",
       " -0.1,\n",
       " -0.1,\n",
       " -0.1,\n",
       " -0.1,\n",
       " -0.1,\n",
       " -0.1,\n",
       " -0.1,\n",
       " -0.1,\n",
       " -0.1,\n",
       " -0.1,\n",
       " -0.1,\n",
       " -0.1,\n",
       " 100.0]"
      ]
     },
     "execution_count": 4,
     "metadata": {},
     "output_type": "execute_result"
    }
   ],
   "source": [
    "reward, info = evaluate(expert_right)\n",
    "print(\"Episode Reward: \", reward)\n",
    "info['env'].render()\n",
    "info['reward']"
   ]
  },
  {
   "cell_type": "code",
   "execution_count": 5,
   "metadata": {},
   "outputs": [
    {
     "name": "stdout",
     "output_type": "stream",
     "text": [
      "Building Walls!!!\n",
      "Episode Reward:  -0.7000000104308128\n"
     ]
    },
    {
     "data": {
      "image/png": "[encoded data removed]",
      "text/plain": [
       "<Figure size 432x288 with 2 Axes>"
      ]
     },
     "metadata": {
      "needs_background": "light"
     },
     "output_type": "display_data"
    },
    {
     "data": {
      "text/plain": [
       "[-0.1, -0.1, -0.1, -0.1, -0.1, -0.1, -0.1, 0.0]"
      ]
     },
     "execution_count": 5,
     "metadata": {},
     "output_type": "execute_result"
    }
   ],
   "source": [
    "reward, info = evaluate(expert_left)\n",
    "print(\"Episode Reward: \", reward)\n",
    "info['env'].render()\n",
    "info['reward']\n",
    "# info['env'].traj"
   ]
  },
  {
   "cell_type": "code",
   "execution_count": 6,
   "metadata": {
    "scrolled": false
   },
   "outputs": [
    {
     "name": "stdout",
     "output_type": "stream",
     "text": [
      "Building Walls!!!\n",
      "Episode Reward:  8.999999985098839\n"
     ]
    },
    {
     "data": {
      "image/png": "[encoded data removed]",
      "text/plain": [
       "<Figure size 432x288 with 2 Axes>"
      ]
     },
     "metadata": {
      "needs_background": "light"
     },
     "output_type": "display_data"
    },
    {
     "data": {
      "text/plain": [
       "[-0.1, -0.1, -0.1, -0.1, -0.1, -0.1, -0.1, -0.1, -0.1, -0.1, 10.0]"
      ]
     },
     "execution_count": 6,
     "metadata": {},
     "output_type": "execute_result"
    }
   ],
   "source": [
    "reward, info = evaluate(expert_up)\n",
    "print(\"Episode Reward: \", reward)\n",
    "info['env'].render()\n",
    "info['reward']\n",
    "# info['env'].traj"
   ]
  },
  {
   "cell_type": "code",
   "execution_count": 7,
   "metadata": {},
   "outputs": [
    {
     "name": "stdout",
     "output_type": "stream",
     "text": [
      "Building Walls!!!\n",
      "Episode Reward:  8.999999985098839\n"
     ]
    },
    {
     "data": {
      "image/png": "[encoded data removed]",
      "text/plain": [
       "<Figure size 432x288 with 2 Axes>"
      ]
     },
     "metadata": {
      "needs_background": "light"
     },
     "output_type": "display_data"
    },
    {
     "data": {
      "text/plain": [
       "[-0.1, -0.1, -0.1, -0.1, -0.1, -0.1, -0.1, -0.1, -0.1, -0.1, 10.0]"
      ]
     },
     "execution_count": 7,
     "metadata": {},
     "output_type": "execute_result"
    }
   ],
   "source": [
    "reward, info = evaluate(expert_down)\n",
    "print(\"Episode Reward: \", reward)\n",
    "info['env'].render()\n",
    "info['reward']\n",
    "# info['env'].traj"
   ]
  },
  {
   "cell_type": "code",
   "execution_count": 8,
   "metadata": {},
   "outputs": [
    {
     "name": "stdout",
     "output_type": "stream",
     "text": [
      "Building Walls!!!\n",
      "Episode Reward:  -3.200000047683716\n"
     ]
    },
    {
     "data": {
      "image/png": "[encoded data removed]",
      "text/plain": [
       "<Figure size 432x288 with 2 Axes>"
      ]
     },
     "metadata": {
      "needs_background": "light"
     },
     "output_type": "display_data"
    },
    {
     "data": {
      "text/plain": [
       "[-0.1,\n",
       " -0.1,\n",
       " -0.1,\n",
       " -0.1,\n",
       " -0.1,\n",
       " -0.1,\n",
       " -0.1,\n",
       " -0.1,\n",
       " -0.1,\n",
       " -0.1,\n",
       " -0.1,\n",
       " -0.1,\n",
       " -0.1,\n",
       " -0.1,\n",
       " -0.1,\n",
       " -0.1,\n",
       " -0.1,\n",
       " -0.1,\n",
       " -0.1,\n",
       " -0.1,\n",
       " -0.1,\n",
       " -0.1,\n",
       " -0.1,\n",
       " -0.1,\n",
       " -0.1,\n",
       " -0.1,\n",
       " -0.1,\n",
       " -0.1,\n",
       " -0.1,\n",
       " -0.1,\n",
       " -0.1,\n",
       " -0.1]"
      ]
     },
     "execution_count": 8,
     "metadata": {},
     "output_type": "execute_result"
    }
   ],
   "source": [
    "reward, info = evaluate(lambda _: [0, 0])\n",
    "print(\"Episode Reward: \", reward)\n",
    "info['env'].render()\n",
    "info['reward']\n",
    "# info['env'].traj"
   ]
  },
  {
   "cell_type": "code",
   "execution_count": 9,
   "metadata": {},
   "outputs": [
    {
     "name": "stdout",
     "output_type": "stream",
     "text": [
      "Building Walls!!!\n"
     ]
    },
    {
     "data": {
      "text/plain": [
       "(-3.200000047683716,\n",
       " {'env': <toolbox.env.four_way.FourWayGridWorld at 0x129b58ef0>,\n",
       "  'reward': [-0.1,\n",
       "   -0.1,\n",
       "   -0.1,\n",
       "   -0.1,\n",
       "   -0.1,\n",
       "   -0.1,\n",
       "   -0.1,\n",
       "   -0.1,\n",
       "   -0.1,\n",
       "   -0.1,\n",
       "   -0.1,\n",
       "   -0.1,\n",
       "   -0.1,\n",
       "   -0.1,\n",
       "   -0.1,\n",
       "   -0.1,\n",
       "   -0.1,\n",
       "   -0.1,\n",
       "   -0.1,\n",
       "   -0.1,\n",
       "   -0.1,\n",
       "   -0.1,\n",
       "   -0.1,\n",
       "   -0.1,\n",
       "   -0.1,\n",
       "   -0.1,\n",
       "   -0.1,\n",
       "   -0.1,\n",
       "   -0.1,\n",
       "   -0.1,\n",
       "   -0.1,\n",
       "   -0.1]})"
      ]
     },
     "execution_count": 9,
     "metadata": {},
     "output_type": "execute_result"
    }
   ],
   "source": [
    "expert = lambda _: [0.0, 0.0]\n",
    "evaluate(expert)"
   ]
  },
  {
   "cell_type": "code",
   "execution_count": 10,
   "metadata": {},
   "outputs": [
    {
     "name": "stdout",
     "output_type": "stream",
     "text": [
      "Building Walls!!!\n",
      "Episode Reward:  -3.200000047683716\n"
     ]
    },
    {
     "data": {
      "image/png": "[encoded data removed]",
      "text/plain": [
       "<Figure size 432x288 with 2 Axes>"
      ]
     },
     "metadata": {
      "needs_background": "light"
     },
     "output_type": "display_data"
    },
    {
     "data": {
      "text/plain": [
       "[array([8., 8.]),\n",
       " array([8.71410929, 7.48229652]),\n",
       " array([9.32738127, 8.04120384]),\n",
       " array([9.81237898, 7.63289037]),\n",
       " array([9.09701039, 7.62760245]),\n",
       " array([9.54966515, 6.92795243]),\n",
       " array([10.05383232,  7.40691584]),\n",
       " array([10.34692474,  8.26292694]),\n",
       " array([10.09381987,  8.80046359]),\n",
       " array([9.31910116, 8.87354163]),\n",
       " array([10.20464285,  9.7090832 ]),\n",
       " array([10.51970756,  8.92206244]),\n",
       " array([10.95019442,  8.73014809]),\n",
       " array([9.96317  , 9.2314406]),\n",
       " array([9.64982667, 9.01554812]),\n",
       " array([8.69006333, 9.65686285]),\n",
       " array([9.01548625, 9.27860573]),\n",
       " array([9.0802907 , 9.17739401]),\n",
       " array([8.79855382, 9.79276114]),\n",
       " array([9.55454947, 9.90267189]),\n",
       " array([9.55454947, 9.90267189]),\n",
       " array([10.38252968,  9.42814818]),\n",
       " array([10.49159722,  9.23656618]),\n",
       " array([10.23197147,  8.62355866]),\n",
       " array([9.55650489, 8.0534718 ]),\n",
       " array([9.20561505, 7.62240365]),\n",
       " array([9.23476832, 8.01218804]),\n",
       " array([9.37677908, 8.74032098]),\n",
       " array([8.94191298, 8.37653161]),\n",
       " array([9.60400116, 7.72738831]),\n",
       " array([10.10346651,  8.57152409]),\n",
       " array([10.51371613,  8.19571419]),\n",
       " array([10.16992763,  8.34168812])]"
      ]
     },
     "execution_count": 10,
     "metadata": {},
     "output_type": "execute_result"
    }
   ],
   "source": [
    "reward, info = evaluate(lambda _: np.random.uniform(size=[2,]) * 2 - 1)\n",
    "print(\"Episode Reward: \", reward)\n",
    "info['env'].render()\n",
    "# info['reward']\n",
    "info['env'].traj"
   ]
  },
  {
   "cell_type": "code",
   "execution_count": 13,
   "metadata": {},
   "outputs": [
    {
     "name": "stdout",
     "output_type": "stream",
     "text": [
      "Building Walls!!!\n",
      "Episode Reward:  -2.600000038743019\n"
     ]
    },
    {
     "data": {
      "image/png": "[encoded data removed]",
      "text/plain": [
       "<Figure size 432x288 with 2 Axes>"
      ]
     },
     "metadata": {
      "needs_background": "light"
     },
     "output_type": "display_data"
    },
    {
     "data": {
      "text/plain": [
       "[array([8., 8.]),\n",
       " array([7.13733668, 9.        ]),\n",
       " array([7.13733668, 9.        ]),\n",
       " array([6.13733668, 8.        ]),\n",
       " array([5.67598414, 7.        ]),\n",
       " array([5.67598414, 7.        ]),\n",
       " array([5.67598414, 7.        ]),\n",
       " array([5.67598414, 7.        ]),\n",
       " array([5.67598414, 7.        ]),\n",
       " array([5.30787141, 7.54787572]),\n",
       " array([4.30787141, 6.54787572]),\n",
       " array([3.30787141, 7.54787572]),\n",
       " array([4.30787141, 6.54787572]),\n",
       " array([5.30787141, 6.51175879]),\n",
       " array([5.30787141, 6.51175879]),\n",
       " array([6.30787141, 7.51175879]),\n",
       " array([5.30787141, 7.14342374]),\n",
       " array([5.11368498, 6.14342374]),\n",
       " array([4.11368498, 6.05304803]),\n",
       " array([3.11368498, 5.58981937]),\n",
       " array([2.11368498, 4.58981937]),\n",
       " array([1.20836381, 3.58981937]),\n",
       " array([1.66649745, 2.58981937]),\n",
       " array([0.71027503, 1.58981937]),\n",
       " array([0.67336478, 2.58981937]),\n",
       " array([0.46459959, 1.58981937]),\n",
       " array([0.        , 0.58981937])]"
      ]
     },
     "execution_count": 13,
     "metadata": {},
     "output_type": "execute_result"
    }
   ],
   "source": [
    "reward, info = evaluate(lambda _: np.random.normal(size=[2,]) * 2 - 1)\n",
    "print(\"Episode Reward: \", reward)\n",
    "info['env'].render()\n",
    "# info['reward']\n",
    "info['env'].traj"
   ]
  }
 ],
 "metadata": {
  "kernelspec": {
   "display_name": "Python 3",
   "language": "python",
   "name": "python3"
  },
  "language_info": {
   "codemirror_mode": {
    "name": "ipython",
    "version": 3
   },
   "file_extension": ".py",
   "mimetype": "text/x-python",
   "name": "python",
   "nbconvert_exporter": "python",
   "pygments_lexer": "ipython3",
   "version": "3.6.9"
  },
  "pycharm": {
   "stem_cell": {
    "cell_type": "raw",
    "metadata": {
     "collapsed": false
    },
    "source": []
   }
  }
 },
 "nbformat": 4,
 "nbformat_minor": 1
}
